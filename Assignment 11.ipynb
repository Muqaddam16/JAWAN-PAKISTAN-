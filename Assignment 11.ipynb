{
 "cells": [
  {
   "cell_type": "code",
   "execution_count": 1,
   "id": "ffc93f91-c9b2-4acd-bc98-eddd599eb177",
   "metadata": {},
   "outputs": [],
   "source": [
    "import csv"
   ]
  },
  {
   "cell_type": "code",
   "execution_count": 2,
   "id": "51c90f4b-26fd-4824-af74-27394c431352",
   "metadata": {},
   "outputs": [
    {
     "data": {
      "text/plain": [
       "<_io.TextIOWrapper name='updated student data.csv' mode='r' encoding='cp1252'>"
      ]
     },
     "execution_count": 2,
     "metadata": {},
     "output_type": "execute_result"
    }
   ],
   "source": [
    "open_file = open('updated student data.csv', mode='r')\n",
    "open_file"
   ]
  },
  {
   "cell_type": "code",
   "execution_count": 3,
   "id": "ffab29be-13d4-41f4-ad0b-7a3309fa54ab",
   "metadata": {},
   "outputs": [
    {
     "data": {
      "text/plain": [
       "<_csv.reader at 0x1e278e1dc60>"
      ]
     },
     "execution_count": 3,
     "metadata": {},
     "output_type": "execute_result"
    }
   ],
   "source": [
    "reader = csv.reader(open_file)\n",
    "reader"
   ]
  },
  {
   "cell_type": "code",
   "execution_count": 4,
   "id": "21780abc-9e10-44c4-a3d6-b6fb3561f8f7",
   "metadata": {},
   "outputs": [
    {
     "data": {
      "text/plain": [
       "[['roll no', 'Name', 'Chemistry', 'Physics', 'Math', 'Percentage'],\n",
       " ['101', 'Aliza', '50', '23', '87', '53.33'],\n",
       " ['102', 'Fareed', '45', '24', '88', '52.33'],\n",
       " ['103', 'Basit', '46', '25', '89', '53.33'],\n",
       " ['104', 'Abdullah', '47', '26', '90', '54.33'],\n",
       " ['105', 'Ali', '48', '27', '67', '47.33'],\n",
       " ['106', 'Mubashir', '49', '28', '68', '48.33'],\n",
       " ['107', 'Waleed', '50', '29', '69', '49.33'],\n",
       " ['108', 'Mansoor', '51', '30', '70', '50.33'],\n",
       " ['109', 'Zain', '52', '31', '71', '51.33'],\n",
       " ['110', 'Mohsin', '53', '67', '72', '64.0'],\n",
       " ['111', 'Shahmeer', '54', '68', '73', '65.0'],\n",
       " ['112', 'Rao', '55', '69', '74', '66.0'],\n",
       " ['113', 'Aurangzeb', '56', '70', '75', '67.0'],\n",
       " ['114', 'Zeeshan', '57', '71', '76', '68.0'],\n",
       " ['115', 'Hamna', '58', '72', '77', '69.0'],\n",
       " ['116', 'Hamza', '59', '73', '78', '70.0'],\n",
       " ['117', 'Khalid', '60', '74', '79', '71.0'],\n",
       " ['118', 'Behroz', '61', '75', '80', '72.0'],\n",
       " ['119', 'Justin', '62', '76', '81', '73.0'],\n",
       " ['120', 'Danish', '63', '77', '82', '74.0'],\n",
       " ['121', 'Kainat', '64', '78', '83', '75.0'],\n",
       " ['122', 'Sameer', '65', '79', '84', '76.0'],\n",
       " ['123', 'Raza', '66', '80', '85', '77.0'],\n",
       " ['124', 'Kumar', '67', '81', '86', '78.0'],\n",
       " ['125', 'Komal', '68', '82', '87', '79.0'],\n",
       " ['126', 'Erum', '69', '83', '88', '80.0'],\n",
       " ['127', 'Faiza', '70', '84', '89', '81.0'],\n",
       " ['128', 'Saeed', '71', '85', '90', '82.0'],\n",
       " ['129', 'Waqar', '72', '86', '91', '83.0'],\n",
       " ['130', 'Wali', '73', '87', '92', '84.0'],\n",
       " ['131', 'Wajid', '74', '88', '93', '85.0'],\n",
       " ['132', 'Waseeb', '75', '89', '94', '86.0'],\n",
       " ['133', 'Shiza', '76', '90', '95', '87.0'],\n",
       " ['134', 'Shabina', '77', '91', '96', '88.0'],\n",
       " ['135', 'Shazain', '78', '55', '97', '76.67'],\n",
       " ['136', 'Lubna', '79', '61', '98', '79.33'],\n",
       " ['137', 'Laiba', '80', '88', '78', '82.0'],\n",
       " ['138', 'Khursheed', '81', '56', '45', '60.67'],\n",
       " ['139', 'Ali', '82', '89', '46', '72.33'],\n",
       " ['140', 'Aiza', '83', '45', '89', '72.33'],\n",
       " ['141', 'Aiman', '84', '92', '78', '84.67'],\n",
       " ['142', 'Yasmeen', '85', '36', '56', '59.0'],\n",
       " ['143', 'Tasbeel', '86', '78', '78', '80.67'],\n",
       " ['144', 'Laraib', '87', '56', '54', '65.67'],\n",
       " ['145', 'Saleem', '88', '78', '78', '81.33'],\n",
       " ['146', 'Bismil', '89', '89', '46', '74.67'],\n",
       " ['147', 'Batool', '90', '56', '79', '75.0'],\n",
       " ['148', 'Iqra', '91', '33', '46', '56.67'],\n",
       " ['149', 'Zarnish', '92', '78', '45', '71.67'],\n",
       " ['150', 'Zara', '83', '45', '56', '61.33']]"
      ]
     },
     "execution_count": 4,
     "metadata": {},
     "output_type": "execute_result"
    }
   ],
   "source": [
    "data = list(reader)\n",
    "data"
   ]
  },
  {
   "cell_type": "code",
   "execution_count": 5,
   "id": "98057428-77b6-4cf5-9f95-6b281165c1f2",
   "metadata": {},
   "outputs": [
    {
     "data": {
      "text/plain": [
       "['roll no', 'Name', 'Chemistry', 'Physics', 'Math', 'Percentage']"
      ]
     },
     "execution_count": 5,
     "metadata": {},
     "output_type": "execute_result"
    }
   ],
   "source": [
    "header = data[0]\n",
    "header"
   ]
  },
  {
   "cell_type": "code",
   "execution_count": 6,
   "id": "f5d0f337-51c0-4274-a8ce-39d20471bfe3",
   "metadata": {},
   "outputs": [],
   "source": [
    "def calculate_grade(percentage):\n",
    "    percentage = float(percentage)\n",
    "    if 80 <= percentage <= 100:\n",
    "        return 'A'\n",
    "    elif 70 <= percentage < 80:\n",
    "        return 'B'\n",
    "    elif 60 <= percentage < 70:\n",
    "        return 'C'\n",
    "    elif 50 <= percentage < 60:\n",
    "        return 'D'\n",
    "    elif 0 <= percentage < 50:\n",
    "        return 'F'"
   ]
  },
  {
   "cell_type": "code",
   "execution_count": 7,
   "id": "0b067fbd-79af-4be3-87a6-dadd7594567a",
   "metadata": {},
   "outputs": [],
   "source": [
    "for i in data[1:]:\n",
    "    Percentage = float(i[5])    \n",
    "    Grade = calculate_grade(Percentage)\n",
    "    i.append(Grade)"
   ]
  },
  {
   "cell_type": "code",
   "execution_count": 8,
   "id": "e2f61796-eb99-4740-96a8-e55c7b4f3dc8",
   "metadata": {},
   "outputs": [
    {
     "data": {
      "text/plain": [
       "[['roll no', 'Name', 'Chemistry', 'Physics', 'Math', 'Percentage'],\n",
       " ['101', 'Aliza', '50', '23', '87', '53.33', 'D'],\n",
       " ['102', 'Fareed', '45', '24', '88', '52.33', 'D'],\n",
       " ['103', 'Basit', '46', '25', '89', '53.33', 'D'],\n",
       " ['104', 'Abdullah', '47', '26', '90', '54.33', 'D'],\n",
       " ['105', 'Ali', '48', '27', '67', '47.33', 'F'],\n",
       " ['106', 'Mubashir', '49', '28', '68', '48.33', 'F'],\n",
       " ['107', 'Waleed', '50', '29', '69', '49.33', 'F'],\n",
       " ['108', 'Mansoor', '51', '30', '70', '50.33', 'D'],\n",
       " ['109', 'Zain', '52', '31', '71', '51.33', 'D'],\n",
       " ['110', 'Mohsin', '53', '67', '72', '64.0', 'C'],\n",
       " ['111', 'Shahmeer', '54', '68', '73', '65.0', 'C'],\n",
       " ['112', 'Rao', '55', '69', '74', '66.0', 'C'],\n",
       " ['113', 'Aurangzeb', '56', '70', '75', '67.0', 'C'],\n",
       " ['114', 'Zeeshan', '57', '71', '76', '68.0', 'C'],\n",
       " ['115', 'Hamna', '58', '72', '77', '69.0', 'C'],\n",
       " ['116', 'Hamza', '59', '73', '78', '70.0', 'B'],\n",
       " ['117', 'Khalid', '60', '74', '79', '71.0', 'B'],\n",
       " ['118', 'Behroz', '61', '75', '80', '72.0', 'B'],\n",
       " ['119', 'Justin', '62', '76', '81', '73.0', 'B'],\n",
       " ['120', 'Danish', '63', '77', '82', '74.0', 'B'],\n",
       " ['121', 'Kainat', '64', '78', '83', '75.0', 'B'],\n",
       " ['122', 'Sameer', '65', '79', '84', '76.0', 'B'],\n",
       " ['123', 'Raza', '66', '80', '85', '77.0', 'B'],\n",
       " ['124', 'Kumar', '67', '81', '86', '78.0', 'B'],\n",
       " ['125', 'Komal', '68', '82', '87', '79.0', 'B'],\n",
       " ['126', 'Erum', '69', '83', '88', '80.0', 'A'],\n",
       " ['127', 'Faiza', '70', '84', '89', '81.0', 'A'],\n",
       " ['128', 'Saeed', '71', '85', '90', '82.0', 'A'],\n",
       " ['129', 'Waqar', '72', '86', '91', '83.0', 'A'],\n",
       " ['130', 'Wali', '73', '87', '92', '84.0', 'A'],\n",
       " ['131', 'Wajid', '74', '88', '93', '85.0', 'A'],\n",
       " ['132', 'Waseeb', '75', '89', '94', '86.0', 'A'],\n",
       " ['133', 'Shiza', '76', '90', '95', '87.0', 'A'],\n",
       " ['134', 'Shabina', '77', '91', '96', '88.0', 'A'],\n",
       " ['135', 'Shazain', '78', '55', '97', '76.67', 'B'],\n",
       " ['136', 'Lubna', '79', '61', '98', '79.33', 'B'],\n",
       " ['137', 'Laiba', '80', '88', '78', '82.0', 'A'],\n",
       " ['138', 'Khursheed', '81', '56', '45', '60.67', 'C'],\n",
       " ['139', 'Ali', '82', '89', '46', '72.33', 'B'],\n",
       " ['140', 'Aiza', '83', '45', '89', '72.33', 'B'],\n",
       " ['141', 'Aiman', '84', '92', '78', '84.67', 'A'],\n",
       " ['142', 'Yasmeen', '85', '36', '56', '59.0', 'D'],\n",
       " ['143', 'Tasbeel', '86', '78', '78', '80.67', 'A'],\n",
       " ['144', 'Laraib', '87', '56', '54', '65.67', 'C'],\n",
       " ['145', 'Saleem', '88', '78', '78', '81.33', 'A'],\n",
       " ['146', 'Bismil', '89', '89', '46', '74.67', 'B'],\n",
       " ['147', 'Batool', '90', '56', '79', '75.0', 'B'],\n",
       " ['148', 'Iqra', '91', '33', '46', '56.67', 'D'],\n",
       " ['149', 'Zarnish', '92', '78', '45', '71.67', 'B'],\n",
       " ['150', 'Zara', '83', '45', '56', '61.33', 'C']]"
      ]
     },
     "execution_count": 8,
     "metadata": {},
     "output_type": "execute_result"
    }
   ],
   "source": [
    "data"
   ]
  },
  {
   "cell_type": "code",
   "execution_count": 9,
   "id": "3846376f-1af3-4928-9d08-b981ed4490cc",
   "metadata": {},
   "outputs": [],
   "source": [
    "header.append('Grade')"
   ]
  },
  {
   "cell_type": "code",
   "execution_count": 10,
   "id": "3d3330fc-8170-4a1d-9783-d1c47d23f834",
   "metadata": {},
   "outputs": [
    {
     "data": {
      "text/plain": [
       "['roll no', 'Name', 'Chemistry', 'Physics', 'Math', 'Percentage', 'Grade']"
      ]
     },
     "execution_count": 10,
     "metadata": {},
     "output_type": "execute_result"
    }
   ],
   "source": [
    "data[0]"
   ]
  },
  {
   "cell_type": "code",
   "execution_count": 11,
   "id": "35e022a7-2072-4aef-a46d-93ca81718ee5",
   "metadata": {},
   "outputs": [
    {
     "data": {
      "text/plain": [
       "[['roll no', 'Name', 'Chemistry', 'Physics', 'Math', 'Percentage', 'Grade'],\n",
       " ['101', 'Aliza', '50', '23', '87', '53.33', 'D'],\n",
       " ['102', 'Fareed', '45', '24', '88', '52.33', 'D'],\n",
       " ['103', 'Basit', '46', '25', '89', '53.33', 'D'],\n",
       " ['104', 'Abdullah', '47', '26', '90', '54.33', 'D'],\n",
       " ['105', 'Ali', '48', '27', '67', '47.33', 'F'],\n",
       " ['106', 'Mubashir', '49', '28', '68', '48.33', 'F'],\n",
       " ['107', 'Waleed', '50', '29', '69', '49.33', 'F'],\n",
       " ['108', 'Mansoor', '51', '30', '70', '50.33', 'D'],\n",
       " ['109', 'Zain', '52', '31', '71', '51.33', 'D'],\n",
       " ['110', 'Mohsin', '53', '67', '72', '64.0', 'C'],\n",
       " ['111', 'Shahmeer', '54', '68', '73', '65.0', 'C'],\n",
       " ['112', 'Rao', '55', '69', '74', '66.0', 'C'],\n",
       " ['113', 'Aurangzeb', '56', '70', '75', '67.0', 'C'],\n",
       " ['114', 'Zeeshan', '57', '71', '76', '68.0', 'C'],\n",
       " ['115', 'Hamna', '58', '72', '77', '69.0', 'C'],\n",
       " ['116', 'Hamza', '59', '73', '78', '70.0', 'B'],\n",
       " ['117', 'Khalid', '60', '74', '79', '71.0', 'B'],\n",
       " ['118', 'Behroz', '61', '75', '80', '72.0', 'B'],\n",
       " ['119', 'Justin', '62', '76', '81', '73.0', 'B'],\n",
       " ['120', 'Danish', '63', '77', '82', '74.0', 'B'],\n",
       " ['121', 'Kainat', '64', '78', '83', '75.0', 'B'],\n",
       " ['122', 'Sameer', '65', '79', '84', '76.0', 'B'],\n",
       " ['123', 'Raza', '66', '80', '85', '77.0', 'B'],\n",
       " ['124', 'Kumar', '67', '81', '86', '78.0', 'B'],\n",
       " ['125', 'Komal', '68', '82', '87', '79.0', 'B'],\n",
       " ['126', 'Erum', '69', '83', '88', '80.0', 'A'],\n",
       " ['127', 'Faiza', '70', '84', '89', '81.0', 'A'],\n",
       " ['128', 'Saeed', '71', '85', '90', '82.0', 'A'],\n",
       " ['129', 'Waqar', '72', '86', '91', '83.0', 'A'],\n",
       " ['130', 'Wali', '73', '87', '92', '84.0', 'A'],\n",
       " ['131', 'Wajid', '74', '88', '93', '85.0', 'A'],\n",
       " ['132', 'Waseeb', '75', '89', '94', '86.0', 'A'],\n",
       " ['133', 'Shiza', '76', '90', '95', '87.0', 'A'],\n",
       " ['134', 'Shabina', '77', '91', '96', '88.0', 'A'],\n",
       " ['135', 'Shazain', '78', '55', '97', '76.67', 'B'],\n",
       " ['136', 'Lubna', '79', '61', '98', '79.33', 'B'],\n",
       " ['137', 'Laiba', '80', '88', '78', '82.0', 'A'],\n",
       " ['138', 'Khursheed', '81', '56', '45', '60.67', 'C'],\n",
       " ['139', 'Ali', '82', '89', '46', '72.33', 'B'],\n",
       " ['140', 'Aiza', '83', '45', '89', '72.33', 'B'],\n",
       " ['141', 'Aiman', '84', '92', '78', '84.67', 'A'],\n",
       " ['142', 'Yasmeen', '85', '36', '56', '59.0', 'D'],\n",
       " ['143', 'Tasbeel', '86', '78', '78', '80.67', 'A'],\n",
       " ['144', 'Laraib', '87', '56', '54', '65.67', 'C'],\n",
       " ['145', 'Saleem', '88', '78', '78', '81.33', 'A'],\n",
       " ['146', 'Bismil', '89', '89', '46', '74.67', 'B'],\n",
       " ['147', 'Batool', '90', '56', '79', '75.0', 'B'],\n",
       " ['148', 'Iqra', '91', '33', '46', '56.67', 'D'],\n",
       " ['149', 'Zarnish', '92', '78', '45', '71.67', 'B'],\n",
       " ['150', 'Zara', '83', '45', '56', '61.33', 'C']]"
      ]
     },
     "execution_count": 11,
     "metadata": {},
     "output_type": "execute_result"
    }
   ],
   "source": [
    "data"
   ]
  },
  {
   "cell_type": "code",
   "execution_count": 12,
   "id": "f6566e61-36d6-498a-9a7f-2fe35cd2847a",
   "metadata": {},
   "outputs": [
    {
     "data": {
      "text/plain": [
       "<_io.TextIOWrapper name='student data with grades.csv' mode='w' encoding='cp1252'>"
      ]
     },
     "execution_count": 12,
     "metadata": {},
     "output_type": "execute_result"
    }
   ],
   "source": [
    "updated = open('student data with grades.csv', mode='w', newline='')\n",
    "updated"
   ]
  },
  {
   "cell_type": "code",
   "execution_count": 13,
   "id": "93295a3f-55a1-41fb-903d-fc22c9bd7ec2",
   "metadata": {},
   "outputs": [
    {
     "data": {
      "text/plain": [
       "<_csv.writer at 0x1e278e1e1a0>"
      ]
     },
     "execution_count": 13,
     "metadata": {},
     "output_type": "execute_result"
    }
   ],
   "source": [
    "writer = csv.writer(updated)\n",
    "writer"
   ]
  },
  {
   "cell_type": "code",
   "execution_count": 14,
   "id": "38af22a6-3bde-4bcb-81da-6e2ea5e7ed91",
   "metadata": {},
   "outputs": [],
   "source": [
    "writer.writerows(data)\n",
    "updated.close()"
   ]
  },
  {
   "cell_type": "code",
   "execution_count": null,
   "id": "a74a0210-1632-4134-8045-591f02153eaa",
   "metadata": {},
   "outputs": [],
   "source": []
  }
 ],
 "metadata": {
  "kernelspec": {
   "display_name": "Python 3 (ipykernel)",
   "language": "python",
   "name": "python3"
  },
  "language_info": {
   "codemirror_mode": {
    "name": "ipython",
    "version": 3
   },
   "file_extension": ".py",
   "mimetype": "text/x-python",
   "name": "python",
   "nbconvert_exporter": "python",
   "pygments_lexer": "ipython3",
   "version": "3.13.5"
  }
 },
 "nbformat": 4,
 "nbformat_minor": 5
}
