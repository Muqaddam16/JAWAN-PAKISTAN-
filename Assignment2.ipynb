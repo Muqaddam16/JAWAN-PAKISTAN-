{
 "cells": [
  {
   "cell_type": "markdown",
   "id": "b9f2a3cc-5141-4a9e-a7a0-1e2fbef98770",
   "metadata": {},
   "source": [
    "Q:1"
   ]
  },
  {
   "cell_type": "code",
   "execution_count": 7,
   "id": "a56e84e8-99ab-4909-b1e5-81007bb450ed",
   "metadata": {},
   "outputs": [
    {
     "name": "stdout",
     "output_type": "stream",
     "text": [
      "19\n",
      "11\n",
      "60\n",
      "3.75\n",
      "3\n",
      "3\n"
     ]
    }
   ],
   "source": [
    "a = 15 \n",
    "b = 4\n",
    "#Sum\n",
    "print(a + b)\n",
    "#Difference\n",
    "print(a - b)\n",
    "#Product\n",
    "print(a * b)\n",
    "#Division\n",
    "print(a / b)\n",
    "#Floor division\n",
    "print(a // b)\n",
    "#Modulus\n",
    "print(a % b)"
   ]
  },
  {
   "cell_type": "markdown",
   "id": "3c94f9e6-91bc-4a1b-a15a-50fdd877e1d1",
   "metadata": {},
   "source": [
    "Q:2"
   ]
  },
  {
   "cell_type": "code",
   "execution_count": 12,
   "id": "d1f21260-8c2d-4be5-90db-8720f404bb0c",
   "metadata": {},
   "outputs": [
    {
     "name": "stdout",
     "output_type": "stream",
     "text": [
      "<class 'int'>\n",
      "<class 'float'>\n",
      "<class 'float'>\n",
      "<class 'str'>\n"
     ]
    }
   ],
   "source": [
    "num1 = 10 \n",
    "num2 = 5.6 \n",
    "num3 = 4.43\n",
    "num4='23'\n",
    "print(type(num1))\n",
    "print(type(num2))\n",
    "print(type(num3))\n",
    "print(type(num4))"
   ]
  },
  {
   "cell_type": "code",
   "execution_count": 15,
   "id": "3b5b387c-bc83-436f-9f8d-e2069aaf2451",
   "metadata": {},
   "outputs": [
    {
     "name": "stdout",
     "output_type": "stream",
     "text": [
      "10.0\n",
      "5\n",
      "4.43\n",
      "23\n"
     ]
    }
   ],
   "source": [
    "#Integer to Float \n",
    "num1 = float(num1)\n",
    "print(num1)\n",
    "#Float to Integer\n",
    "num2 = int(num2)\n",
    "print(num2)\n",
    "#Float to String\n",
    "num3 = str(num3)\n",
    "print(num3)\n",
    "#String to Integer\n",
    "num4 = int(num4)\n",
    "print(num4)"
   ]
  },
  {
   "cell_type": "code",
   "execution_count": 14,
   "id": "ffd0d0f4-1b71-4d9e-8dc8-2768bf1107b7",
   "metadata": {},
   "outputs": [
    {
     "name": "stdout",
     "output_type": "stream",
     "text": [
      "<class 'float'>\n",
      "<class 'int'>\n",
      "<class 'str'>\n",
      "<class 'int'>\n"
     ]
    }
   ],
   "source": [
    "print(type(num1))\n",
    "print(type(num2))\n",
    "print(type(num3))\n",
    "print(type(num4))"
   ]
  },
  {
   "cell_type": "markdown",
   "id": "258712ea-ad6c-48d2-8969-561c604d4921",
   "metadata": {},
   "source": [
    "Q:3"
   ]
  },
  {
   "cell_type": "code",
   "execution_count": 19,
   "id": "9c2d191e-c80b-4b9c-8140-fd77953af8e3",
   "metadata": {},
   "outputs": [
    {
     "data": {
      "text/plain": [
       "'Beef Biryani'"
      ]
     },
     "execution_count": 19,
     "metadata": {},
     "output_type": "execute_result"
    }
   ],
   "source": [
    "favorite_food = \"Beef Biryani\"\n",
    "favorite_food"
   ]
  },
  {
   "cell_type": "markdown",
   "id": "4706c63a-618b-4fdd-9639-34cac9611d77",
   "metadata": {},
   "source": [
    "Q:4"
   ]
  },
  {
   "cell_type": "code",
   "execution_count": 20,
   "id": "9a562638-63d8-4556-81aa-fe32135fc8e8",
   "metadata": {},
   "outputs": [
    {
     "data": {
      "text/plain": [
       "55"
      ]
     },
     "execution_count": 20,
     "metadata": {},
     "output_type": "execute_result"
    }
   ],
   "source": [
    "apple = '22'\n",
    "mangoes = 33\n",
    "\n",
    "#first we change the type of variable apple into integer\n",
    "apple = int(apple)\n",
    "apple + mangoes"
   ]
  },
  {
   "cell_type": "markdown",
   "id": "94d789b1-bf38-45d3-b931-1bb43d3a757a",
   "metadata": {},
   "source": [
    "Q:5"
   ]
  },
  {
   "cell_type": "code",
   "execution_count": 21,
   "id": "6d449530-c245-4b94-97f5-24899dc4c491",
   "metadata": {},
   "outputs": [
    {
     "name": "stdout",
     "output_type": "stream",
     "text": [
      "Muhammad Bin Maqsood\n",
      "20\n"
     ]
    }
   ],
   "source": [
    "Name = \"Muhammad Bin Maqsood\"\n",
    "print(Name)\n",
    "Age = 20\n",
    "print(Age)"
   ]
  },
  {
   "cell_type": "code",
   "execution_count": 22,
   "id": "05ca464a-3f42-4dd9-ae4c-59d1695444bb",
   "metadata": {},
   "outputs": [
    {
     "data": {
      "text/plain": [
       "21"
      ]
     },
     "execution_count": 22,
     "metadata": {},
     "output_type": "execute_result"
    }
   ],
   "source": [
    "Age = Age + 1\n",
    "Age"
   ]
  },
  {
   "cell_type": "markdown",
   "id": "1d1efc6f-fa25-45a3-8e93-800ff2f4cf5d",
   "metadata": {},
   "source": [
    "Q:6"
   ]
  },
  {
   "cell_type": "code",
   "execution_count": 24,
   "id": "8cc7ae35-a9ec-401c-a152-80d1766047e2",
   "metadata": {},
   "outputs": [
    {
     "name": "stdout",
     "output_type": "stream",
     "text": [
      "3\n",
      "4\n",
      "3\n",
      "2.0\n",
      "0\n",
      "25\n"
     ]
    }
   ],
   "source": [
    "a = 2\n",
    "b = 1\n",
    "c = 6\n",
    "d = 3\n",
    "#Add a and b\n",
    "print(a + b)\n",
    "#Subtract c and a\n",
    "print(c - a)\n",
    "#Multiply d and b\n",
    "print(d * b)\n",
    "#Divide c and d (float division)\n",
    "print(c / d)\n",
    "#Modulus of c divided by d\n",
    "print(c % d)\n",
    "#Square of (d + a)\n",
    "print((d + a)**2)"
   ]
  },
  {
   "cell_type": "markdown",
   "id": "9ec35b88-31c4-4aa2-974e-bd0d804baaa6",
   "metadata": {},
   "source": [
    "Q:7"
   ]
  },
  {
   "cell_type": "code",
   "execution_count": 26,
   "id": "2397d849-79d7-4bdb-807a-57d97785c810",
   "metadata": {},
   "outputs": [
    {
     "name": "stdout",
     "output_type": "stream",
     "text": [
      "8.3\n",
      "69.3\n",
      "12\n"
     ]
    }
   ],
   "source": [
    "a = '2'\n",
    "b = '11'\n",
    "c = 6.3\n",
    "#Convert a to integar and add c\n",
    "a = int(a)\n",
    "print(a + c)\n",
    "#Convert b to float then multiply c\n",
    "b = float(b)\n",
    "print(b * c)\n",
    "#Convert c to integer and then add c\n",
    "c = int(c)\n",
    "print(c + c)"
   ]
  },
  {
   "cell_type": "markdown",
   "id": "61ea617e-0aab-4baa-8437-054f860dc8ab",
   "metadata": {},
   "source": [
    "Q:8"
   ]
  },
  {
   "cell_type": "code",
   "execution_count": 27,
   "id": "035d2d0a-f972-4230-aba1-0c22db31bdf2",
   "metadata": {},
   "outputs": [
    {
     "name": "stdout",
     "output_type": "stream",
     "text": [
      "20\n",
      "25\n"
     ]
    }
   ],
   "source": [
    "#In the year 2020\n",
    "Age = 20\n",
    "print(Age)\n",
    "#Add 5 more year into the age\n",
    "Age = Age + 5\n",
    "print(Age)"
   ]
  },
  {
   "cell_type": "markdown",
   "id": "d926e3d4-d7ff-4370-b754-486a9bbcce73",
   "metadata": {},
   "source": [
    "Q:9"
   ]
  },
  {
   "cell_type": "code",
   "execution_count": 28,
   "id": "bd74df7f-b684-4735-b0f7-aee6063b9e9b",
   "metadata": {},
   "outputs": [
    {
     "name": "stdout",
     "output_type": "stream",
     "text": [
      "12\n",
      "8\n"
     ]
    }
   ],
   "source": [
    "#Before given books to friend\n",
    "Book = 12\n",
    "print(Book)\n",
    "#After given 4 books to friend\n",
    "Book = 12 - 4\n",
    "print(Book)"
   ]
  },
  {
   "cell_type": "markdown",
   "id": "6b8e34ff-8a14-47e8-83d6-3669fbdc8bb4",
   "metadata": {},
   "source": [
    "Q:10"
   ]
  },
  {
   "cell_type": "code",
   "execution_count": 31,
   "id": "2000b7c9-4485-480e-a369-232d38ff406c",
   "metadata": {},
   "outputs": [
    {
     "name": "stdout",
     "output_type": "stream",
     "text": [
      "5\n",
      "15\n"
     ]
    }
   ],
   "source": [
    "#No of cookies baked \n",
    "Cookies = 5\n",
    "print(Cookies)\n",
    "#Total nunmber of cookies after baked 3 time in a day is\n",
    "Cookies = Cookies * 3\n",
    "print(Cookies)"
   ]
  },
  {
   "cell_type": "code",
   "execution_count": null,
   "id": "97305ca7-2399-4d41-835b-4e7f7be321ac",
   "metadata": {},
   "outputs": [],
   "source": []
  }
 ],
 "metadata": {
  "kernelspec": {
   "display_name": "Python 3 (ipykernel)",
   "language": "python",
   "name": "python3"
  },
  "language_info": {
   "codemirror_mode": {
    "name": "ipython",
    "version": 3
   },
   "file_extension": ".py",
   "mimetype": "text/x-python",
   "name": "python",
   "nbconvert_exporter": "python",
   "pygments_lexer": "ipython3",
   "version": "3.13.5"
  }
 },
 "nbformat": 4,
 "nbformat_minor": 5
}
