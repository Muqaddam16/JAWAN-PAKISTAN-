{
 "cells": [
  {
   "cell_type": "markdown",
   "id": "2bf6c77b-bc8e-45a8-a853-401f0356badf",
   "metadata": {},
   "source": [
    "Q1:\n",
    "Write a Python program that:\n",
    "\n",
    "Has a balance of 1000.\n",
    "\n",
    "Asks the user for a withdrawal amount.\n",
    "\n",
    "Checks for these errors:\n",
    "\n",
    "Non-numeric input → print \"Please enter a valid number.\"\n",
    "\n",
    "Amount ≤ 0 → print \"Amount must be more than zero.\"\n",
    "\n",
    "Amount > balance → print \"Insufficient balance.\"\n",
    "\n",
    "If valid, deducts amount and shows remaining balance.\n",
    "\n",
    "Always prints \"Thank you for using the ATM.\"\n",
    "\n",
    "Expected Output:\n",
    "\n",
    "- Enter amount to withdraw: 1500\n",
    "\n",
    "  Insufficient balance.\n",
    "\n",
    "  Thank you for using the ATM.\n",
    "\n",
    "\n",
    "- Enter amount to withdraw:  0\n",
    "\n",
    "  Amount must be more than zero.\n",
    "\n",
    "  Thank you for using the ATM.\n",
    "\n",
    "\n",
    "- Enter amount to withdraw:  K\n",
    "\n",
    "\n",
    "  Please enter a valid number.\n",
    "\n",
    "  Thank you for using the ATM."
   ]
  },
  {
   "cell_type": "code",
   "execution_count": 1,
   "id": "86b21867-2d1a-4098-bc12-d3c88873b781",
   "metadata": {},
   "outputs": [
    {
     "name": "stdin",
     "output_type": "stream",
     "text": [
      "Enter amount to withdraw: 1500\n"
     ]
    },
    {
     "name": "stdout",
     "output_type": "stream",
     "text": [
      "Enter amount to withdraw: 1500\n",
      "Insufficient balance.\n",
      "Thank you for using the ATM.\n"
     ]
    }
   ],
   "source": [
    "Balance = 1000\n",
    "Amount = input(\"Enter amount to withdraw:\")\n",
    "print(f\"Enter amount to withdraw: {Amount}\")\n",
    "try:\n",
    "    Amount = int(Amount)\n",
    "    if Amount <= 0:\n",
    "        print(\"Amount must be more than zero.\")\n",
    "    elif Amount > Balance :\n",
    "        print(\"Insufficient balance.\")\n",
    "    else:\n",
    "        Balance -= Amount\n",
    "        print(f\"Please collect your cash: {Amount}\")\n",
    "        print(f\"Remaining balance: {Balance}\")   \n",
    "except:\n",
    "     print(\"Please enter a valid number.\")\n",
    "finally:\n",
    "     print(\"Thank you for using the ATM.\")"
   ]
  },
  {
   "cell_type": "code",
   "execution_count": 2,
   "id": "91ceed8a-e1d5-40c7-8abf-1e91fe8f9c60",
   "metadata": {},
   "outputs": [
    {
     "name": "stdin",
     "output_type": "stream",
     "text": [
      "Enter amount to withdraw: 0\n"
     ]
    },
    {
     "name": "stdout",
     "output_type": "stream",
     "text": [
      "Enter amount to withdraw: 0\n",
      "Amount must be more than zero.\n",
      "Thank you for using the ATM.\n"
     ]
    }
   ],
   "source": [
    "Balance = 1000\n",
    "Amount = input(\"Enter amount to withdraw:\")\n",
    "print(f\"Enter amount to withdraw: {Amount}\")\n",
    "try:\n",
    "    Amount = int(Amount)\n",
    "    if Amount <= 0:\n",
    "        print(\"Amount must be more than zero.\")\n",
    "    elif Amount > Balance :\n",
    "        print(\"Insufficient balance.\")\n",
    "    else:\n",
    "        Balance -= Amount\n",
    "        print(f\"Please collect your cash: {Amount}\")\n",
    "        print(f\"Remaining balance: {Balance}\")   \n",
    "except:\n",
    "     print(\"Please enter a valid number.\")\n",
    "finally:\n",
    "     print(\"Thank you for using the ATM.\")"
   ]
  },
  {
   "cell_type": "code",
   "execution_count": 3,
   "id": "a7249330-de51-4407-8864-f3fd18917866",
   "metadata": {},
   "outputs": [
    {
     "name": "stdin",
     "output_type": "stream",
     "text": [
      "Enter amount to withdraw: k\n"
     ]
    },
    {
     "name": "stdout",
     "output_type": "stream",
     "text": [
      "Enter amount to withdraw: k\n",
      "Please enter a valid number.\n",
      "Thank you for using the ATM.\n"
     ]
    }
   ],
   "source": [
    "Balance = 1000\n",
    "Amount = input(\"Enter amount to withdraw:\")\n",
    "print(f\"Enter amount to withdraw: {Amount}\")\n",
    "try:\n",
    "    Amount = int(Amount)\n",
    "    if Amount <= 0:\n",
    "        print(\"Amount must be more than zero.\")\n",
    "    elif Amount > Balance :\n",
    "        print(\"Insufficient balance.\")\n",
    "    else:\n",
    "        Balance -= Amount\n",
    "        print(f\"Please collect your cash: {Amount}\")\n",
    "        print(f\"Remaining balance: {Balance}\")   \n",
    "except:\n",
    "     print(\"Please enter a valid number.\")\n",
    "finally:\n",
    "     print(\"Thank you for using the ATM.\")\n",
    "    "
   ]
  },
  {
   "cell_type": "markdown",
   "id": "e7ca4d3f-3f2f-4b01-bc4c-28919084207c",
   "metadata": {},
   "source": [
    "Q2\n",
    "\n",
    "Write a Python program that:\n",
    "\n",
    "Has 5 seats available (available_seats = 5).\n",
    "\n",
    "Asks the user how many tickets they want to book.\n",
    "\n",
    "Checks for these cases:\n",
    "\n",
    "Non-numeric input → print \"Please enter a valid number.\"\n",
    "\n",
    "Tickets ≤ 0 → print \"You must book at least 1 ticket.\"\n",
    "\n",
    "Tickets more than available seats → print \"Not enough seats available.\"\n",
    "\n",
    "If valid, confirms the booking by printing how many tickets were booked.\n",
    "\n",
    "Always prints \"Thank you for booking with us.\" at the end.\n",
    "\n",
    "Expected Output:\n",
    "\n",
    "- How many tickets do you want to book? 3\n",
    "\n",
    "  3 ticket(s) booked successfully.\n",
    "\n",
    "  Thank you for booking with us.\n",
    "\n",
    "- How many tickets do you want to book? 0\n",
    "\n",
    "\n",
    "  You must book at least 1 ticket.\n",
    "\n",
    "  Thank you for booking with us.\n",
    "\n",
    "- How many tickets do you want to book? 7\n",
    "\n",
    "  Not enough seats available.\n",
    "\n",
    "  Thank you for booking with us.\n",
    "\n",
    "- How many tickets do you want to book? five\n",
    "\n",
    "  Please enter a valid number.\n",
    "\n",
    "  Thank you for booking with us.\n",
    "\n",
    "\n",
    "\n"
   ]
  },
  {
   "cell_type": "code",
   "execution_count": 4,
   "id": "5ad32912-4345-40cd-945c-9f9db38ef17d",
   "metadata": {},
   "outputs": [
    {
     "name": "stdin",
     "output_type": "stream",
     "text": [
      "How many tickets do you want to book? 3\n"
     ]
    },
    {
     "name": "stdout",
     "output_type": "stream",
     "text": [
      "How many tickets do you want to book?:3\n",
      "3 ticket(s) booked successfully\n",
      "Thank you for booking with us.\n"
     ]
    }
   ],
   "source": [
    "available_seats = 5\n",
    "user = input(\"How many tickets do you want to book?\")\n",
    "print(f\"How many tickets do you want to book?:{user}\")\n",
    "try:\n",
    "    ticket = int(user)\n",
    "    if ticket <= 0:\n",
    "        print(\"You must book at least 1 ticket.\")\n",
    "    elif ticket > available_seats:\n",
    "        print(\"Not enough seats available.\")\n",
    "    elif ticket < available_seats:\n",
    "        print(f\"{ticket} ticket(s) booked successfully\") \n",
    "except:\n",
    "    print(\"Please enter a valid number.\")\n",
    "finally:\n",
    "    print(\"Thank you for booking with us.\")"
   ]
  },
  {
   "cell_type": "code",
   "execution_count": 5,
   "id": "08c74370-9457-4fe9-af76-f77076ecd75c",
   "metadata": {},
   "outputs": [
    {
     "name": "stdin",
     "output_type": "stream",
     "text": [
      "How many tickets do you want to book? 0\n"
     ]
    },
    {
     "name": "stdout",
     "output_type": "stream",
     "text": [
      "How many tickets do you want to book?:0\n",
      "You must book at least 1 ticket.\n",
      "Thank you for booking with us.\n"
     ]
    }
   ],
   "source": [
    "available_seats = 5\n",
    "user = input(\"How many tickets do you want to book?\")\n",
    "print(f\"How many tickets do you want to book?:{user}\")\n",
    "try:\n",
    "    ticket = int(user)\n",
    "    if ticket <= 0:\n",
    "        print(\"You must book at least 1 ticket.\")\n",
    "    elif ticket > available_seats:\n",
    "        print(\"Not enough seats available.\")\n",
    "    elif ticket < available_seats:\n",
    "        print(f\"{ticket} ticket(s) booked successfully\") \n",
    "except:\n",
    "    print(\"Please enter a valid number.\")\n",
    "finally:\n",
    "    print(\"Thank you for booking with us.\")"
   ]
  },
  {
   "cell_type": "code",
   "execution_count": 6,
   "id": "3a4da036-e9c0-439e-a6ba-92beb3cf73f2",
   "metadata": {},
   "outputs": [
    {
     "name": "stdin",
     "output_type": "stream",
     "text": [
      "How many tickets do you want to book? 7\n"
     ]
    },
    {
     "name": "stdout",
     "output_type": "stream",
     "text": [
      "How many tickets do you want to book?:7\n",
      "Not enough seats available.\n",
      "Thank you for booking with us.\n"
     ]
    }
   ],
   "source": [
    "available_seats = 5\n",
    "user = input(\"How many tickets do you want to book?\")\n",
    "print(f\"How many tickets do you want to book?:{user}\")\n",
    "try:\n",
    "    ticket = int(user)\n",
    "    if ticket <= 0:\n",
    "        print(\"You must book at least 1 ticket.\")\n",
    "    elif ticket > available_seats:\n",
    "        print(\"Not enough seats available.\")\n",
    "    elif ticket < available_seats:\n",
    "        print(f\"{ticket} ticket(s) booked successfully\") \n",
    "except:\n",
    "    print(\"Please enter a valid number.\")\n",
    "finally:\n",
    "    print(\"Thank you for booking with us.\")"
   ]
  },
  {
   "cell_type": "code",
   "execution_count": 7,
   "id": "d29dd9c7-ba0a-406e-9345-fca0750bbb46",
   "metadata": {},
   "outputs": [
    {
     "name": "stdin",
     "output_type": "stream",
     "text": [
      "How many tickets do you want to book? five\n"
     ]
    },
    {
     "name": "stdout",
     "output_type": "stream",
     "text": [
      "How many tickets do you want to book?:five\n",
      "Please enter a valid number.\n",
      "Thank you for booking with us.\n"
     ]
    }
   ],
   "source": [
    "available_seats = 5\n",
    "user = input(\"How many tickets do you want to book?\")\n",
    "print(f\"How many tickets do you want to book?:{user}\")\n",
    "try:\n",
    "    ticket = int(user)\n",
    "    if ticket <= 0:\n",
    "        print(\"You must book at least 1 ticket.\")\n",
    "    elif ticket > available_seats:\n",
    "        print(\"Not enough seats available.\")\n",
    "    elif ticket < available_seats:\n",
    "        print(f\"{ticket} ticket(s) booked successfully\") \n",
    "except:\n",
    "    print(\"Please enter a valid number.\")\n",
    "finally:\n",
    "    print(\"Thank you for booking with us.\")"
   ]
  },
  {
   "cell_type": "markdown",
   "id": "5dc01c7c-2a5b-4a18-bd8f-4b80f71b625b",
   "metadata": {},
   "source": [
    "Q3:\n",
    "\n",
    "Write a Python program that:\n",
    "\n",
    "Asks the user how many items they want to buy.\n",
    "\n",
    "If the user enters a non-number, print: \"Please enter a valid quantity.\"\n",
    "\n",
    "If the user enters a number less than 1, print: \"You must buy at least one item.\"\n",
    "\n",
    "If the input is valid, print: \"You added {quantity} item(s) to your cart.\"\n",
    "\n",
    "Expected Output:\n",
    "\n",
    "- Enter the number of items you want to buy: 3\n",
    "\n",
    "  You added 3 item(s) to your cart.\n",
    "\n",
    "- Enter the number of items you want to buy: 0\n",
    "\n",
    "    You must buy at least one item.\n",
    "\n",
    "- Enter the number of items you want to buy: five\n",
    "\n",
    "  Please enter a valid quantity.\n",
    "\n"
   ]
  },
  {
   "cell_type": "code",
   "execution_count": 8,
   "id": "da034fc6-218c-4dd9-902a-8f2dd0182d23",
   "metadata": {},
   "outputs": [
    {
     "name": "stdin",
     "output_type": "stream",
     "text": [
      "Enter the number of items you want to buy: 3\n"
     ]
    },
    {
     "name": "stdout",
     "output_type": "stream",
     "text": [
      "Enter the number of items you want to buy:3\n",
      "You added 3 item(s) to your cart.\n"
     ]
    }
   ],
   "source": [
    "user = input(\"Enter the number of items you want to buy:\")\n",
    "print(f'Enter the number of items you want to buy:{user}')\n",
    "try:\n",
    "    quantity = int(user)\n",
    "    if quantity < 1:\n",
    "        print(\"You must buy at least one item.\")\n",
    "    elif quantity >= 1 :\n",
    "        print(f\"You added {quantity} item(s) to your cart.\")\n",
    "except:\n",
    "    print(\"Please enter a valid quantity.\")"
   ]
  },
  {
   "cell_type": "code",
   "execution_count": 9,
   "id": "1403e3a5-d1fd-4bbe-82fd-af4cd67096a6",
   "metadata": {},
   "outputs": [
    {
     "name": "stdin",
     "output_type": "stream",
     "text": [
      "Enter the number of items you want to buy: 0\n"
     ]
    },
    {
     "name": "stdout",
     "output_type": "stream",
     "text": [
      "Enter the number of items you want to buy:0\n",
      "You must buy at least one item.\n"
     ]
    }
   ],
   "source": [
    "user = input(\"Enter the number of items you want to buy:\")\n",
    "print(f'Enter the number of items you want to buy:{user}')\n",
    "try:\n",
    "    quantity = int(user)\n",
    "    if quantity < 1:\n",
    "        print(\"You must buy at least one item.\")\n",
    "    elif quantity >= 1 :\n",
    "        print(f\"You added {quantity} item(s) to your cart.\")\n",
    "except:\n",
    "    print(\"Please enter a valid quantity.\")"
   ]
  },
  {
   "cell_type": "code",
   "execution_count": 10,
   "id": "1c413158-2e73-4405-b24b-e4047a0b4d27",
   "metadata": {},
   "outputs": [
    {
     "name": "stdin",
     "output_type": "stream",
     "text": [
      "Enter the number of items you want to buy: five\n"
     ]
    },
    {
     "name": "stdout",
     "output_type": "stream",
     "text": [
      "Enter the number of items you want to buy:five\n",
      "Please enter a valid quantity.\n"
     ]
    }
   ],
   "source": [
    "user = input(\"Enter the number of items you want to buy:\")\n",
    "print(f'Enter the number of items you want to buy:{user}')\n",
    "try:\n",
    "    quantity = int(user)\n",
    "    if quantity < 1:\n",
    "        print(\"You must buy at least one item.\")\n",
    "    elif quantity >= 1 :\n",
    "        print(f\"You added {quantity} item(s) to your cart.\")\n",
    "except:\n",
    "    print(\"Please enter a valid quantity.\")"
   ]
  },
  {
   "cell_type": "markdown",
   "id": "3ac27741-aec9-45ae-83c5-8648e53245cd",
   "metadata": {},
   "source": [
    "Q4:\n",
    "Write a Python program that:\n",
    "\n",
    "Asks the user to enter a number between 1 and 7.\n",
    "\n",
    "If the number is between 1 and 7, prints the corresponding day of the week (1 = Monday, 7 = Sunday).\n",
    "\n",
    "If the number is outside this range, prints: \"Please enter a number between 1 and 7.\"\n",
    "\n",
    "Handles invalid input (non-numbers) by printing: \"Please enter a valid number.\"\n",
    "\n",
    "Expected Output:\n",
    "\n",
    "- Enter a day number (1-7): 3\n",
    "\n",
    "  Day is Wednesday\n",
    "\n",
    "- Enter a day number (1-7): 9\n",
    "\n",
    "    Please enter a number between 1 and 7.\n",
    "\n",
    "- Enter a day number (1-7): five\n",
    "\n",
    "  Please enter a valid number.\n",
    "\n",
    "\n"
   ]
  },
  {
   "cell_type": "code",
   "execution_count": 11,
   "id": "8dc53857-9b8a-47bd-96c5-1245f8af01fe",
   "metadata": {},
   "outputs": [
    {
     "name": "stdin",
     "output_type": "stream",
     "text": [
      "Enter a day number (1-7):  3\n"
     ]
    },
    {
     "name": "stdout",
     "output_type": "stream",
     "text": [
      "Enter a day number (1-7):: 3\n",
      "Day is Wednesday\n"
     ]
    }
   ],
   "source": [
    "days = {1: \"Monday\",2: \"Tuesday\",3: \"Wednesday\",4: \"Thursday\",5: \"Friday\",6: \"Saturday\",7: \"Sunday\"}\n",
    "user_input = input(\"Enter a day number (1-7): \")\n",
    "print(f\"Enter a day number (1-7):: {user_input}\") \n",
    "try:\n",
    "    day_num = int(user_input)\n",
    "    if 1 <= day_num <= 7:\n",
    "        print(f\"Day is {days[day_num]}\")\n",
    "    else:\n",
    "        print(\"Please enter a number between 1 and 7.\")\n",
    "\n",
    "except:\n",
    "    print(\"Please enter a valid number.\")"
   ]
  },
  {
   "cell_type": "code",
   "execution_count": 12,
   "id": "c8763f38-09c7-4829-a6f4-7b544405dac8",
   "metadata": {},
   "outputs": [
    {
     "name": "stdin",
     "output_type": "stream",
     "text": [
      "Enter a day number (1-7):  9\n"
     ]
    },
    {
     "name": "stdout",
     "output_type": "stream",
     "text": [
      "Enter a day number (1-7):: 9\n",
      "Please enter a number between 1 and 7.\n"
     ]
    }
   ],
   "source": [
    "days = {1: \"Monday\",2: \"Tuesday\",3: \"Wednesday\",4: \"Thursday\",5: \"Friday\",6: \"Saturday\",7: \"Sunday\"}\n",
    "user_input = input(\"Enter a day number (1-7): \")\n",
    "print(f\"Enter a day number (1-7):: {user_input}\") \n",
    "try:\n",
    "    day_num = int(user_input)\n",
    "    if 1 <= day_num <= 7:\n",
    "        print(f\"Day is {days[day_num]}\")\n",
    "    else:\n",
    "        print(\"Please enter a number between 1 and 7.\")\n",
    "\n",
    "except:\n",
    "    print(\"Please enter a valid number.\")"
   ]
  },
  {
   "cell_type": "code",
   "execution_count": 13,
   "id": "530cbdd9-5132-4a16-8959-a1c2334d55b9",
   "metadata": {},
   "outputs": [
    {
     "name": "stdin",
     "output_type": "stream",
     "text": [
      "Enter a day number (1-7):  five\n"
     ]
    },
    {
     "name": "stdout",
     "output_type": "stream",
     "text": [
      "Enter a day number (1-7):: five\n",
      "Please enter a valid number.\n"
     ]
    }
   ],
   "source": [
    "days = {1: \"Monday\",2: \"Tuesday\",3: \"Wednesday\",4: \"Thursday\",5: \"Friday\",6: \"Saturday\",7: \"Sunday\"}\n",
    "user_input = input(\"Enter a day number (1-7): \")\n",
    "print(f\"Enter a day number (1-7):: {user_input}\") \n",
    "try:\n",
    "    day_num = int(user_input)\n",
    "    if 1 <= day_num <= 7:\n",
    "        print(f\"Day is {days[day_num]}\")\n",
    "    else:\n",
    "        print(\"Please enter a number between 1 and 7.\")\n",
    "\n",
    "except:\n",
    "    print(\"Please enter a valid number.\")"
   ]
  },
  {
   "cell_type": "markdown",
   "id": "ae60a0eb-b305-425f-b90e-808005f8cefb",
   "metadata": {},
   "source": [
    "Q5:\n",
    "\n",
    "Write a Python program that:\n",
    "\n",
    "Asks the user how many days late they are returning a book.\n",
    "\n",
    "Calculates a fine: $0.50 per day late.\n",
    "\n",
    "If the user enters a negative number, print: \"Days late cannot be negative.\"\n",
    "\n",
    "If the input is invalid (not a number), print: \"Please enter a valid number.\"\n",
    "\n",
    "Otherwise, print the total fine.\n",
    "\n",
    "Expected Output:\n",
    "\n",
    "- Enter the number of days late: 4\n",
    "\n",
    "  Total fine: $2.00\n",
    "\n",
    "- Enter the number of days late: 0\n",
    "\n",
    "  Total fine: $0.00\n",
    "\n",
    "- Enter the number of days late: -3\n",
    "\n",
    "    Days late cannot be negative.\n",
    "\n",
    "- Enter the number of days late: five\n",
    "\n",
    "\n",
    "  Please enter a valid number.\n",
    "\n",
    "\n",
    "\n"
   ]
  },
  {
   "cell_type": "code",
   "execution_count": 14,
   "id": "4f88f29b-1dfe-4539-bbaa-51be32563010",
   "metadata": {},
   "outputs": [
    {
     "name": "stdin",
     "output_type": "stream",
     "text": [
      "Enter how many days late you are returning the :  4\n"
     ]
    },
    {
     "name": "stdout",
     "output_type": "stream",
     "text": [
      "Enter the number of days late: 4\n",
      "Total fine: $2.00\n"
     ]
    }
   ],
   "source": [
    "user = input(\"Enter how many days late you are returning the : \")\n",
    "print(f'Enter the number of days late: {user}')\n",
    "try:\n",
    "    days_late = int(user)\n",
    "    if days_late < 0:\n",
    "        print(\"Days late cannot be negative.\")\n",
    "    else:\n",
    "        fine = days_late * 0.50\n",
    "        print(f\"Total fine: ${fine:.2f}\")\n",
    "\n",
    "except ValueError:\n",
    "    print(\"Please enter a valid number.\")"
   ]
  },
  {
   "cell_type": "code",
   "execution_count": 15,
   "id": "cc79f0c7-022f-44ef-b148-ac46fa1defc8",
   "metadata": {},
   "outputs": [
    {
     "name": "stdin",
     "output_type": "stream",
     "text": [
      "Enter how many days late you are returning the :  0\n"
     ]
    },
    {
     "name": "stdout",
     "output_type": "stream",
     "text": [
      "Enter the number of days late: 0\n",
      "Total fine: $0.00\n"
     ]
    }
   ],
   "source": [
    "user = input(\"Enter how many days late you are returning the : \")\n",
    "print(f'Enter the number of days late: {user}')\n",
    "try:\n",
    "    days_late = int(user)\n",
    "    if days_late < 0:\n",
    "        print(\"Days late cannot be negative.\")\n",
    "    else:\n",
    "        fine = days_late * 0.50\n",
    "        print(f\"Total fine: ${fine:.2f}\")\n",
    "\n",
    "except ValueError:\n",
    "    print(\"Please enter a valid number.\")"
   ]
  },
  {
   "cell_type": "code",
   "execution_count": 16,
   "id": "3de74d2b-bb71-4aca-90ed-c94f9e6d4158",
   "metadata": {},
   "outputs": [
    {
     "name": "stdin",
     "output_type": "stream",
     "text": [
      "Enter how many days late you are returning the :  -3\n"
     ]
    },
    {
     "name": "stdout",
     "output_type": "stream",
     "text": [
      "Enter the number of days late: -3\n",
      "Days late cannot be negative.\n"
     ]
    }
   ],
   "source": [
    "user = input(\"Enter how many days late you are returning the : \")\n",
    "print(f'Enter the number of days late: {user}')\n",
    "try:\n",
    "    days_late = int(user)\n",
    "    if days_late < 0:\n",
    "        print(\"Days late cannot be negative.\")\n",
    "    else:\n",
    "        fine = days_late * 0.50\n",
    "        print(f\"Total fine: ${fine:.2f}\")\n",
    "\n",
    "except ValueError:\n",
    "    print(\"Please enter a valid number.\")"
   ]
  },
  {
   "cell_type": "code",
   "execution_count": 17,
   "id": "da5c21a4-2618-4634-b225-864cab71b52a",
   "metadata": {},
   "outputs": [
    {
     "name": "stdin",
     "output_type": "stream",
     "text": [
      "Enter how many days late you are returning the :  five\n"
     ]
    },
    {
     "name": "stdout",
     "output_type": "stream",
     "text": [
      "Enter the number of days late: five\n",
      "Please enter a valid number.\n"
     ]
    }
   ],
   "source": [
    "user = input(\"Enter how many days late you are returning the : \")\n",
    "print(f'Enter the number of days late: {user}')\n",
    "try:\n",
    "    days_late = int(user)\n",
    "    if days_late < 0:\n",
    "        print(\"Days late cannot be negative.\")\n",
    "    else:\n",
    "        fine = days_late * 0.50\n",
    "        print(f\"Total fine: ${fine:.2f}\")\n",
    "\n",
    "except ValueError:\n",
    "    print(\"Please enter a valid number.\")\n",
    "    "
   ]
  },
  {
   "cell_type": "markdown",
   "id": "0c62f22a-9cd0-4092-81d7-f9a1dfd27478",
   "metadata": {},
   "source": [
    "Q6:\n",
    "Define a class named Book that has the following attributes:\n",
    "\n",
    "title (string)\n",
    "\n",
    "author (string)\n",
    "\n",
    "year (integer)\n",
    "\n",
    "Write a constructor (__init__) that initializes these attributes when a Book object is created.\n",
    "\n",
    "Then, create an object of the Book class with sample data (e.g., title = \"To Kill a Mockingbird\", author = \"Harper Lee\", year = 1960).\n",
    "\n",
    "Finally, print the values of the object's attributes (title, author, and year\n",
    "\n",
    "Expected Output:\n",
    "\n",
    "To Kill a Mockingbird\n",
    "\n",
    "Harper Lee\n",
    "\n",
    "1960\n"
   ]
  },
  {
   "cell_type": "code",
   "execution_count": 18,
   "id": "d6148e62-677a-4004-ba9b-e5ecf8659869",
   "metadata": {},
   "outputs": [
    {
     "name": "stdout",
     "output_type": "stream",
     "text": [
      "To Kill a Mockingbird\n",
      "Harper Lee\n",
      "1960\n"
     ]
    }
   ],
   "source": [
    "class Book:\n",
    "    def __init__(self, title, author, year):\n",
    "        self.title = title\n",
    "        self.author = author\n",
    "        self.year = year\n",
    "book1 = Book(\"To Kill a Mockingbird\", \"Harper Lee\", 1960)\n",
    "print( book1.title)\n",
    "print( book1.author)\n",
    "print( book1.year)"
   ]
  },
  {
   "cell_type": "markdown",
   "id": "865ebbd2-6635-46b3-8dd5-67f3939287e6",
   "metadata": {},
   "source": [
    "Q7:\n",
    "\n",
    "Define a class named Book with the following:\n",
    "\n",
    "A constructor (__init__) that initializes three attributes: title, author, and year.\n",
    "\n",
    "A method display_info() that prints the book details in the format:\n",
    "\n",
    "'{title}' by {author}, published in {year}.\n",
    "\n",
    "A method is_classic() that simply prints:\n",
    "\n",
    "\"This is a book.\"\n",
    "\n",
    "Create an object of the Book class using this data:\n",
    "\n",
    "Title: \"To Kill a Mockingbird\"\n",
    "\n",
    "Author: \"Harper Lee\"\n",
    "\n",
    "Year: 1960\n",
    "\n",
    "Call both methods on the object.\n",
    "\n",
    "Expected Output:\n",
    "\n",
    "'To Kill a Mockingbird' by Harper Lee, published in 1960.\n",
    "\n",
    "This is a book.\n",
    "\n"
   ]
  },
  {
   "cell_type": "code",
   "execution_count": 19,
   "id": "a548f6e7-3128-413c-ba26-40e6ff6bbe30",
   "metadata": {},
   "outputs": [
    {
     "name": "stdout",
     "output_type": "stream",
     "text": [
      "'To Kill a Mockingbird' by Harper Lee, published in 1960.\n",
      "This is a book.\n"
     ]
    }
   ],
   "source": [
    "class Book:\n",
    "    def __init__(self, title, author, year):\n",
    "        self.title = title\n",
    "        self.author = author\n",
    "        self.year = year\n",
    "\n",
    "    def display_info(self):\n",
    "        print(f\"'{self.title}' by {self.author}, published in {self.year}.\")\n",
    "\n",
    "    def is_classic(self):\n",
    "        print(\"This is a book.\")\n",
    "\n",
    "book1 = Book(\"To Kill a Mockingbird\", \"Harper Lee\", 1960)\n",
    "book1.display_info()\n",
    "book1.is_classic()"
   ]
  },
  {
   "cell_type": "markdown",
   "id": "aa6ad4bb-1c4c-4765-b1e0-98068f7c89b8",
   "metadata": {},
   "source": [
    "Q8:\n",
    "\n",
    "Define a class named Student that has the following:\n",
    "\n",
    "Attributes: name, grade, and age.\n",
    "\n",
    "A method introduce() that prints:\n",
    "\n",
    "\"My name is {name}, I am {age} years old.\"\n",
    "\n",
    "A method show_grade() that prints:\n",
    "\n",
    "\"My grade is {grade}.\"\n",
    "\n",
    "Create an object of the Student class with sample data (e.g., \"Alice\", \"A\", 16), and call both methods on the object.\n",
    "\n",
    "Expected Output:\n",
    "\n",
    "My name is Alice, I am 16 years old.\n",
    "\n",
    "My grade is A.\n"
   ]
  },
  {
   "cell_type": "code",
   "execution_count": 20,
   "id": "c5c8a120-84eb-4c9b-a706-965824b89ba4",
   "metadata": {},
   "outputs": [
    {
     "name": "stdout",
     "output_type": "stream",
     "text": [
      "My name is Alice, I am 16 years old.\n",
      "My grade is A.\n"
     ]
    }
   ],
   "source": [
    "class Student:\n",
    "    def __init__(self, name, grade, age):\n",
    "        self.name = name\n",
    "        self.grade = grade\n",
    "        self.age = age\n",
    "\n",
    "    def introduce(self):\n",
    "        print(f\"My name is {self.name}, I am {self.age} years old.\")\n",
    "\n",
    "    def show_grade(self):\n",
    "        print(f\"My grade is {self.grade}.\")\n",
    "\n",
    "student1 = Student(\"Alice\", \"A\", 16)\n",
    "student1.introduce()\n",
    "student1.show_grade()"
   ]
  },
  {
   "cell_type": "markdown",
   "id": "525dd92f-d478-42fe-b48f-705262d24ee3",
   "metadata": {},
   "source": [
    "Q9:\n",
    "\n",
    "Define a class named Light with two methods:\n",
    "\n",
    "turn_on() — prints: \"The light is now ON.\"\n",
    "\n",
    "check_status() — prints: \"The light is bright and working.\"\n",
    "\n",
    "Create an object of the Light class and call both methods.\n",
    "\n",
    "Expected Output:\n",
    "\n",
    "The light is now ON.\n",
    "\n",
    "The light is bright and working."
   ]
  },
  {
   "cell_type": "code",
   "execution_count": 21,
   "id": "61a16cd9-aaff-4aa9-9f9d-b95bcb034e05",
   "metadata": {},
   "outputs": [
    {
     "name": "stdout",
     "output_type": "stream",
     "text": [
      "The light is now ON.\n",
      "The light is bright and working.\n"
     ]
    }
   ],
   "source": [
    "class Light:\n",
    "    def turn_on(self):\n",
    "        print(\"The light is now ON.\")\n",
    "\n",
    "    def check_status(self):\n",
    "        print(\"The light is bright and working.\")\n",
    "\n",
    "light1 = Light()\n",
    "light1.turn_on()\n",
    "light1.check_status()"
   ]
  },
  {
   "cell_type": "markdown",
   "id": "229582cf-8c57-44e9-89e5-ab363c727f0d",
   "metadata": {},
   "source": [
    "Q10:\n",
    "\n",
    "available_slots = [101, 102, 103, 104, 105]\n",
    "\n",
    "reserved =  [106, 107, 108, 109, 110]\n",
    "\n",
    "You manage a parking lot with two lists:\n",
    "\n",
    "available_slots — parking slots that are free and can be reserved.\n",
    "\n",
    "reserved — parking slots that are already taken.\n",
    "\n",
    "Write a program that:\n",
    "\n",
    "Asks the user to enter a parking slot number they want to reserve.\n",
    "\n",
    "Checks the slot number:\n",
    "\n",
    "If the slot is in available_slots, confirm the reservation by printing:\n",
    "\n",
    "\"Slot {slot} is reserved for you.\"\n",
    "\n",
    "If the slot is in reserved, print:\n",
    "\n",
    "\"Slot {slot} is already reserved by someone else.\"\n",
    "\n",
    "If the slot is not in either list, print:\n",
    "\n",
    "\"Slot {slot} does not exist.\"\n",
    "\n",
    "Handles invalid input (non-integer) with an error message:\n",
    "\n",
    "\"Invalid input. Please enter a valid slot number.\"\n",
    "\n",
    "Expected Output:\n",
    "\n",
    "- Enter the parking slot number you want to reserve: 103\n",
    "\n",
    "    Slot 103 is reserved for you.\n",
    "\n",
    "- Enter the parking slot number you want to reserve: 107\n",
    "\n",
    "    Slot 107 is already reserved by someone else.\n",
    "\n",
    "- Enter the parking slot number you want to reserve: 999\n",
    "\n",
    "    Slot 999 does not exist.\n",
    "\n",
    "- Enter the parking slot number you want to reserve: abc\n",
    "\n",
    "  Invalid input. Please enter a valid slot number.\n"
   ]
  },
  {
   "cell_type": "code",
   "execution_count": 22,
   "id": "3813d62a-1729-4956-88f9-f53f54128b42",
   "metadata": {},
   "outputs": [
    {
     "name": "stdin",
     "output_type": "stream",
     "text": [
      "Enter the parking slot number you want to reserve:  103\n"
     ]
    },
    {
     "name": "stdout",
     "output_type": "stream",
     "text": [
      "Enter the parking slot number you want to reserve: 103\n",
      "Slot 103 is reserved for you.\n"
     ]
    }
   ],
   "source": [
    "available_slots = [101, 102, 103, 104, 105]\n",
    "reserved = [106, 107, 108, 109, 110]\n",
    "parking_slot = input(\"Enter the parking slot number you want to reserve: \")\n",
    "print(f'Enter the parking slot number you want to reserve: {parking_slot}')\n",
    "try:\n",
    "    slot = int(parking_slot)\n",
    "\n",
    "    if slot in available_slots:\n",
    "        print(f\"Slot {slot} is reserved for you.\")\n",
    "\n",
    "    elif slot in reserved:\n",
    "        print(f\"Slot {slot} is already reserved by someone else.\")\n",
    "\n",
    "    else:\n",
    "        print(f\"Slot {slot} does not exist.\")\n",
    "\n",
    "except:\n",
    "    print(\"Invalid input. Please enter a valid slot number.\")"
   ]
  },
  {
   "cell_type": "code",
   "execution_count": 23,
   "id": "2ce84614-5965-4996-a9f2-410dcae7908b",
   "metadata": {},
   "outputs": [
    {
     "name": "stdin",
     "output_type": "stream",
     "text": [
      "Enter the parking slot number you want to reserve:  107\n"
     ]
    },
    {
     "name": "stdout",
     "output_type": "stream",
     "text": [
      "Enter the parking slot number you want to reserve: 107\n",
      "Slot 107 is already reserved by someone else.\n"
     ]
    }
   ],
   "source": [
    "available_slots = [101, 102, 103, 104, 105]\n",
    "reserved = [106, 107, 108, 109, 110]\n",
    "parking_slot = input(\"Enter the parking slot number you want to reserve: \")\n",
    "print(f'Enter the parking slot number you want to reserve: {parking_slot}')\n",
    "try:\n",
    "    slot = int(parking_slot)\n",
    "\n",
    "    if slot in available_slots:\n",
    "        print(f\"Slot {slot} is reserved for you.\")\n",
    "\n",
    "    elif slot in reserved:\n",
    "        print(f\"Slot {slot} is already reserved by someone else.\")\n",
    "\n",
    "    else:\n",
    "        print(f\"Slot {slot} does not exist.\")\n",
    "\n",
    "except:\n",
    "    print(\"Invalid input. Please enter a valid slot number.\")"
   ]
  },
  {
   "cell_type": "code",
   "execution_count": 24,
   "id": "a49e2be3-dfec-4ebf-a1f2-fd11768f1b43",
   "metadata": {},
   "outputs": [
    {
     "name": "stdin",
     "output_type": "stream",
     "text": [
      "Enter the parking slot number you want to reserve:  999\n"
     ]
    },
    {
     "name": "stdout",
     "output_type": "stream",
     "text": [
      "Enter the parking slot number you want to reserve: 999\n",
      "Slot 999 does not exist.\n"
     ]
    }
   ],
   "source": [
    "available_slots = [101, 102, 103, 104, 105]\n",
    "reserved = [106, 107, 108, 109, 110]\n",
    "parking_slot = input(\"Enter the parking slot number you want to reserve: \")\n",
    "print(f'Enter the parking slot number you want to reserve: {parking_slot}')\n",
    "try:\n",
    "    slot = int(parking_slot)\n",
    "\n",
    "    if slot in available_slots:\n",
    "        print(f\"Slot {slot} is reserved for you.\")\n",
    "\n",
    "    elif slot in reserved:\n",
    "        print(f\"Slot {slot} is already reserved by someone else.\")\n",
    "\n",
    "    else:\n",
    "        print(f\"Slot {slot} does not exist.\")\n",
    "\n",
    "except:\n",
    "    print(\"Invalid input. Please enter a valid slot number.\")"
   ]
  },
  {
   "cell_type": "code",
   "execution_count": 25,
   "id": "be3da673-b448-458b-bf43-90d65b4ef0b8",
   "metadata": {},
   "outputs": [
    {
     "name": "stdin",
     "output_type": "stream",
     "text": [
      "Enter the parking slot number you want to reserve:  abc\n"
     ]
    },
    {
     "name": "stdout",
     "output_type": "stream",
     "text": [
      "Enter the parking slot number you want to reserve: abc\n",
      "Invalid input. Please enter a valid slot number.\n"
     ]
    }
   ],
   "source": [
    "available_slots = [101, 102, 103, 104, 105]\n",
    "reserved = [106, 107, 108, 109, 110]\n",
    "parking_slot = input(\"Enter the parking slot number you want to reserve: \")\n",
    "print(f'Enter the parking slot number you want to reserve: {parking_slot}')\n",
    "try:\n",
    "    slot = int(parking_slot)\n",
    "\n",
    "    if slot in available_slots:\n",
    "        print(f\"Slot {slot} is reserved for you.\")\n",
    "\n",
    "    elif slot in reserved:\n",
    "        print(f\"Slot {slot} is already reserved by someone else.\")\n",
    "\n",
    "    else:\n",
    "        print(f\"Slot {slot} does not exist.\")\n",
    "\n",
    "except:\n",
    "    print(\"Invalid input. Please enter a valid slot number.\")"
   ]
  },
  {
   "cell_type": "code",
   "execution_count": null,
   "id": "a09dedc8-7d99-4317-8d1b-386f7ced76c5",
   "metadata": {},
   "outputs": [],
   "source": []
  }
 ],
 "metadata": {
  "kernelspec": {
   "display_name": "Python 3 (ipykernel)",
   "language": "python",
   "name": "python3"
  },
  "language_info": {
   "codemirror_mode": {
    "name": "ipython",
    "version": 3
   },
   "file_extension": ".py",
   "mimetype": "text/x-python",
   "name": "python",
   "nbconvert_exporter": "python",
   "pygments_lexer": "ipython3",
   "version": "3.13.5"
  }
 },
 "nbformat": 4,
 "nbformat_minor": 5
}
