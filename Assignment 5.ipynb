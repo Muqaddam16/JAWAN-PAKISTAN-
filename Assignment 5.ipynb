{
 "cells": [
  {
   "cell_type": "markdown",
   "id": "02c93f40-2462-4008-89ac-402b9c4e637c",
   "metadata": {},
   "source": [
    "Q1. An e-commerce store stores information about its products in a nested dictionary. The outer dictionary uses product IDs as keys, and the inner dictionary stores product details like name, category, price, and stock quantity. products = { 101: {\"name\": \"Laptop\", \"category\": \"Electronics\", \"price\": 1200, \"stock\": 50}, 102: {\"name\": \"Shirt\", \"category\": \"Apparel\", \"price\": 25, \"stock\": 200}, 103: {\"name\": \"Coffee Maker\", \"category\": \"Home Appliances\", \"price\": 80, \"stock\": 30} }\n",
    "\n",
    "• Increase the stock of the \"Shirt\" product (add 50 more units) using increment/decrement operators\n",
    "\n",
    "• Add a new product (e.g., \"Smartphone\")\n",
    "\n",
    "Expected Output:\n",
    "\n",
    "{101: {'name': 'Laptop', 'category': 'Electronics', 'price': 1200, 'stock': 50}, 102: {'name': 'Shirt', 'category': 'Apparel', 'price': 25, 'stock': 250}, 103: {'name': 'Coffee Maker', 'category': 'Home Appliances', 'price': 80, 'stock': 30}}\n",
    "{101: {'name': 'Laptop', 'category': 'Electronics', 'price': 1200, 'stock': 50}, 102: {'name': 'Shirt', 'category': 'Apparel', 'price': 25, 'stock': 250}, 103: {'name': 'Coffee Maker', 'category': 'Home Appliances', 'price': 80, 'stock': 30}, 104: {'name': 'Smartphone', 'category': 'Electronics', 'price': 800, 'stock': 100}}"
   ]
  },
  {
   "cell_type": "code",
   "execution_count": 1,
   "id": "d4d37ce4-f0e6-4130-8a63-5400e4d74131",
   "metadata": {},
   "outputs": [
    {
     "data": {
      "text/plain": [
       "{101: {'name': 'Laptop',\n",
       "  'category': 'Electronics',\n",
       "  'price': 1200,\n",
       "  'stock': 50},\n",
       " 102: {'name': 'Shirt', 'category': 'Apparel', 'price': 25, 'stock': 250},\n",
       " 103: {'name': 'Coffee Maker',\n",
       "  'category': 'Home Appliances',\n",
       "  'price': 80,\n",
       "  'stock': 30},\n",
       " 104: {'name': 'Smartphone',\n",
       "  'category': 'Electronics',\n",
       "  'price': 800,\n",
       "  'stock': 100}}"
      ]
     },
     "execution_count": 1,
     "metadata": {},
     "output_type": "execute_result"
    }
   ],
   "source": [
    "products = { 101: {\"name\": \"Laptop\", \"category\": \"Electronics\", \"price\": 1200, \"stock\": 50}, \n",
    "             102: {\"name\": \"Shirt\", \"category\": \"Apparel\", \"price\": 25, \"stock\": 200}, \n",
    "             103: {\"name\": \"Coffee Maker\", \"category\": \"Home Appliances\", \"price\": 80, \"stock\": 30} }\n",
    "products[102]['stock']+=50\n",
    "products.update({104: {'name': 'Smartphone', 'category': 'Electronics', 'price': 800, 'stock': 100}})\n",
    "products"
   ]
  },
  {
   "cell_type": "markdown",
   "id": "38374151-536f-489a-a18b-c52649f20110",
   "metadata": {},
   "source": [
    "Q2. You are given a list that contains some duplicate items. Remove the duplicates by converting the list to a set. Final output should be in list\n",
    "\n",
    "shopping_list = [\"apple\", \"banana\", \"apple\", \"orange\", \"banana\", \"grape\"]\n",
    "\n",
    "Expected Output:\n",
    "['apple', 'grape', 'banana', 'orange']"
   ]
  },
  {
   "cell_type": "code",
   "execution_count": 2,
   "id": "8ec1ad41-269c-4e36-8aba-ca690bc9959f",
   "metadata": {},
   "outputs": [
    {
     "data": {
      "text/plain": [
       "['orange', 'apple', 'grape', 'banana']"
      ]
     },
     "execution_count": 2,
     "metadata": {},
     "output_type": "execute_result"
    }
   ],
   "source": [
    "shopping_list = [\"apple\", \"banana\", \"apple\", \"orange\", \"banana\", \"grape\"]\n",
    "shopping_list = set(shopping_list)\n",
    "shopping_list = list(shopping_list)\n",
    "shopping_list"
   ]
  },
  {
   "cell_type": "markdown",
   "id": "6024ec14-7264-4e36-bcea-da9e8044e483",
   "metadata": {},
   "source": [
    "Q3. You are managing a list of students enrolled in two different courses. You need to perform various set operations to understand the student enrollment. Task: Create two sets: one for students in \"Course A\" and one for students in \"Course B\". Find the students who are in \"Course A\" but not in \"Course B\" (difference). Find students who are only in one of the two courses (symmetric difference). course_a = {\"John\", \"Alice\", \"Bob\", \"David\"} course_b = {\"Alice\", \"Eve\", \"Charlie\", \"David\"}\n",
    "\n",
    "Using set methods\n",
    "\n",
    "• Find students who are in Course A but not in Course B (difference)\n",
    "\n",
    "• Find students who are only in one of the two courses (symmetric difference)\n",
    "\n",
    "Expected Output:\n",
    "\n",
    "Students in Course A but not in Course B: {'Bob', 'John'}\n",
    "\n",
    "Students only in one of the two courses: {'Eve', 'John', 'Bob', 'Charlie'}\n"
   ]
  },
  {
   "cell_type": "code",
   "execution_count": 3,
   "id": "8f89bd16-b2a4-4f92-9e6c-e3fd8740a076",
   "metadata": {},
   "outputs": [
    {
     "name": "stdout",
     "output_type": "stream",
     "text": [
      "{'John', 'Bob'}\n"
     ]
    },
    {
     "data": {
      "text/plain": [
       "{'Bob', 'Charlie', 'Eve', 'John'}"
      ]
     },
     "execution_count": 3,
     "metadata": {},
     "output_type": "execute_result"
    }
   ],
   "source": [
    "course_a = {\"John\", \"Alice\", \"Bob\", \"David\"}\n",
    "course_b = {\"Alice\", \"Eve\", \"Charlie\", \"David\"}\n",
    "print(course_a.difference(course_b))\n",
    "course_b.symmetric_difference(course_a)"
   ]
  },
  {
   "cell_type": "markdown",
   "id": "41da432a-3038-4868-803e-fe40f55c9983",
   "metadata": {},
   "source": [
    "Q4. Write a Python program to store and display the details of a book.\n",
    "\n",
    "The program should ask the user to input the following information:\n",
    "\n",
    "Title of the book\n",
    "\n",
    "Author’s name\n",
    "\n",
    "Year of publication\n",
    "\n",
    "Price of the booK\n",
    "\n",
    "Store the entered details in a tuple.\n",
    "\n",
    "Finally, display the book details in a proper format as shown below:\n",
    "\n",
    "Expected Output:\n",
    "\n",
    "Title: Harry Potter\n",
    "\n",
    "Author: JK Rowlings\n",
    "\n",
    "Year of Publication: 2000\n",
    "\n",
    "Price: $180.0"
   ]
  },
  {
   "cell_type": "code",
   "execution_count": 4,
   "id": "c747cc56-4c9b-497f-ab23-394598a9cb6c",
   "metadata": {
    "scrolled": true
   },
   "outputs": [
    {
     "data": {
      "text/plain": [
       "tuple"
      ]
     },
     "execution_count": 4,
     "metadata": {},
     "output_type": "execute_result"
    }
   ],
   "source": [
    "details = (Title := ('Harry Potter'),\n",
    "Author := ('JK Rowlings'),\n",
    "Year_of_Publication := (2000),\n",
    "Price :=('$180.0'))\n",
    "type(details)"
   ]
  },
  {
   "cell_type": "code",
   "execution_count": 2,
   "id": "96f02fff-cb4b-4eb5-8429-51cd7e29e35a",
   "metadata": {},
   "outputs": [
    {
     "name": "stdin",
     "output_type": "stream",
     "text": [
      "Title: Harry Potter\n"
     ]
    },
    {
     "name": "stdout",
     "output_type": "stream",
     "text": [
      "Harry Potter\n"
     ]
    },
    {
     "name": "stdin",
     "output_type": "stream",
     "text": [
      "Author: JK Rowlings\n"
     ]
    },
    {
     "name": "stdout",
     "output_type": "stream",
     "text": [
      "JK Rowlings\n"
     ]
    },
    {
     "name": "stdin",
     "output_type": "stream",
     "text": [
      "Year of Publication: 2000\n"
     ]
    },
    {
     "name": "stdout",
     "output_type": "stream",
     "text": [
      "2000\n"
     ]
    },
    {
     "name": "stdin",
     "output_type": "stream",
     "text": [
      "Price: $180.0\n"
     ]
    },
    {
     "name": "stdout",
     "output_type": "stream",
     "text": [
      "$180.0\n"
     ]
    }
   ],
   "source": [
    "Title = print(input('Title:'))\n",
    "Author = print(input('Author:')),\n",
    "Year_of_Publication = print(input('Year of Publication:')),\n",
    "Price = print(input('Price:'))"
   ]
  },
  {
   "cell_type": "markdown",
   "id": "48347612-e98e-4b10-b9e7-69dd64a27cd3",
   "metadata": {},
   "source": [
    "Q5. Write a program to check if a user’s chosen subject is available in the list of offered subjects.\n",
    "\n",
    "Instructions:\n",
    "\n",
    "Given a list of subjects, ask the user to input a subject.\n",
    "\n",
    "Display whether the subject is available or not.\n",
    "\n",
    "Expected Output:\n",
    "\n",
    "Enter the subject you are interested in:  art\n",
    "\n",
    "art is available."
   ]
  },
  {
   "cell_type": "code",
   "execution_count": 6,
   "id": "f9473ae9-fc3f-49b7-ae73-f708b1c2bab9",
   "metadata": {},
   "outputs": [
    {
     "name": "stdin",
     "output_type": "stream",
     "text": [
      "enter a given subject urdu/science/arts/history arts\n"
     ]
    },
    {
     "name": "stdout",
     "output_type": "stream",
     "text": [
      "arts\n",
      "arts is available\n"
     ]
    }
   ],
   "source": [
    "sub_list = input('enter a given subject urdu/science/arts/history')\n",
    "print(sub_list)\n",
    "if sub_list == 'urdu':\n",
    "    print('urdu is available')\n",
    "elif sub_list == 'science':\n",
    "    print('science is available')\n",
    "elif sub_list == 'arts':\n",
    "    print('arts is available')\n",
    "elif sub_list == 'history':\n",
    "    print('history is available')\n",
    "else:\n",
    "    print('enter a given subject')"
   ]
  },
  {
   "cell_type": "markdown",
   "id": "11ffc986-b30a-4cd9-8416-44c6da950d00",
   "metadata": {},
   "source": [
    "Q6. Write a Python program that asks the user to enter a number.\n",
    "\n",
    "If the number is greater than 0, print \"Positive\".\n",
    "\n",
    "If the number is less than 0, print \"Negative\".\n",
    "\n",
    "If the number is exactly 0, print \"Zero\".\n",
    "\n",
    "Expected Output:\n",
    "\n",
    "Enter a number:  2\n",
    "\n",
    "The number is Positive\n",
    "\n",
    "---\n",
    "\n",
    "Enter a number:  0\n",
    "\n",
    "The number is Zero\n",
    "\n",
    "---\n",
    "\n",
    "Enter a number:  -1\n",
    "\n",
    "The number is Negative"
   ]
  },
  {
   "cell_type": "code",
   "execution_count": 3,
   "id": "050d2fac-191e-4829-aa96-c7e89d7adcd5",
   "metadata": {},
   "outputs": [
    {
     "name": "stdin",
     "output_type": "stream",
     "text": [
      "enter a number: 2\n"
     ]
    },
    {
     "name": "stdout",
     "output_type": "stream",
     "text": [
      "2\n",
      "The number is Positive\n"
     ]
    }
   ],
   "source": [
    "number = int(input('enter a number:'))\n",
    "print(number)\n",
    "if number > 0:\n",
    "    print('The number is Positive')\n",
    "elif number == 0:\n",
    "    print('The number is Zero')\n",
    "elif number < 0:\n",
    "    print('The number is Negative')\n",
    "else:\n",
    "    print('system error')"
   ]
  },
  {
   "cell_type": "code",
   "execution_count": 4,
   "id": "52aa6f44-f509-425e-a9ed-498d93999413",
   "metadata": {},
   "outputs": [
    {
     "name": "stdin",
     "output_type": "stream",
     "text": [
      "enter a number: 0\n"
     ]
    },
    {
     "name": "stdout",
     "output_type": "stream",
     "text": [
      "0\n",
      "The number is Zero\n"
     ]
    }
   ],
   "source": [
    "number = int(input('enter a number:'))\n",
    "print(number)\n",
    "if number > 0:\n",
    "    print('The number is Positive')\n",
    "elif number == 0:\n",
    "    print('The number is Zero')\n",
    "elif number < 0:\n",
    "    print('The number is Negative')\n",
    "else:\n",
    "    print('system error')"
   ]
  },
  {
   "cell_type": "code",
   "execution_count": 5,
   "id": "9baf653f-40f7-492d-a177-e505dbfe1a22",
   "metadata": {},
   "outputs": [
    {
     "name": "stdin",
     "output_type": "stream",
     "text": [
      "enter a number: -1\n"
     ]
    },
    {
     "name": "stdout",
     "output_type": "stream",
     "text": [
      "-1\n",
      "The number is Negative\n"
     ]
    }
   ],
   "source": [
    "number = int(input('enter a number:'))\n",
    "print(number)\n",
    "if number > 0:\n",
    "    print('The number is Positive')\n",
    "elif number == 0:\n",
    "    print('The number is Zero')\n",
    "elif number < 0:\n",
    "    print('The number is Negative')\n",
    "else:\n",
    "    print('system error')"
   ]
  },
  {
   "cell_type": "markdown",
   "id": "2c3a8b52-5013-4999-bdfe-5248b957ad74",
   "metadata": {},
   "source": [
    "Q7. Write a Python program that simulates a simple login system.\n",
    "\n",
    "The correct username is 'admin' and the correct password is 'admin@123'\n",
    "\n",
    "The program should take username and password as input from the user.\n",
    "\n",
    "It should check the input and display messages according to the following conditions:\n",
    "\n",
    "- If both username and password are correct → print \"Login Successful\".\n",
    "\n",
    "- If username is wrong but password is correct → print \"Invalid Username\".\n",
    "\n",
    "- If username is correct but password is wrong → print \"Invalid Password\".\n",
    "\n",
    "- If both username and password are wrong → print \"Invalid Username and Password\"."
   ]
  },
  {
   "cell_type": "code",
   "execution_count": 10,
   "id": "920e9c38-f1ef-4329-8da7-991f11a1a8c9",
   "metadata": {},
   "outputs": [
    {
     "name": "stdin",
     "output_type": "stream",
     "text": [
      "username:  admin\n",
      "password:  admin@123\n"
     ]
    },
    {
     "name": "stdout",
     "output_type": "stream",
     "text": [
      "login Successful\n"
     ]
    }
   ],
   "source": [
    "username = input('username: ')\n",
    "password = input('password: ')\n",
    "if username == 'admin' and password == 'admin@123':\n",
    "    print('login Successful')\n",
    "elif username != 'admin' and password == 'admin@123':\n",
    "    print('Invalid Username')\n",
    "elif username == 'admin' and password != 'admin@123':\n",
    "    print('Invalid Password')\n",
    "elif username != 'admin' and password != 'admin@123':\n",
    "    print('Invalid Username and Password')\n"
   ]
  },
  {
   "cell_type": "code",
   "execution_count": 11,
   "id": "bcb44f0c-3e41-42d4-94d6-298c4fbfdb1d",
   "metadata": {},
   "outputs": [
    {
     "name": "stdin",
     "output_type": "stream",
     "text": [
      "username:  admen\n",
      "password:  admin@123\n"
     ]
    },
    {
     "name": "stdout",
     "output_type": "stream",
     "text": [
      "Invalid Username\n"
     ]
    }
   ],
   "source": [
    "username = input('username: ')\n",
    "password = input('password: ')\n",
    "if username == 'admin' and password == 'admin@123':\n",
    "    print('login Successful')\n",
    "elif username != 'admin' and password == 'admin@123':\n",
    "    print('Invalid Username')\n",
    "elif username == 'admin' and password != 'admin@123':\n",
    "    print('Invalid Password')\n",
    "elif username != 'admin' and password != 'admin@123':\n",
    "    print('Invalid Username and Password')\n"
   ]
  },
  {
   "cell_type": "code",
   "execution_count": 12,
   "id": "f447ff37-e909-40d9-86b6-edf3584ca95a",
   "metadata": {},
   "outputs": [
    {
     "name": "stdin",
     "output_type": "stream",
     "text": [
      "username:  admin\n",
      "password:  admin@1234\n"
     ]
    },
    {
     "name": "stdout",
     "output_type": "stream",
     "text": [
      "Invalid Password\n"
     ]
    }
   ],
   "source": [
    "username = input('username: ')\n",
    "password = input('password: ')\n",
    "if username == 'admin' and password == 'admin@123':\n",
    "    print('login Successful')\n",
    "elif username != 'admin' and password == 'admin@123':\n",
    "    print('Invalid Username')\n",
    "elif username == 'admin' and password != 'admin@123':\n",
    "    print('Invalid Password')\n",
    "elif username != 'admin' and password != 'admin@123':\n",
    "    print('Invalid Username and Password')\n"
   ]
  },
  {
   "cell_type": "code",
   "execution_count": 13,
   "id": "b5f9c70a-da9a-4e9d-9567-0faa289ae5ce",
   "metadata": {},
   "outputs": [
    {
     "name": "stdin",
     "output_type": "stream",
     "text": [
      "username:  admen\n",
      "password:  admin@1234\n"
     ]
    },
    {
     "name": "stdout",
     "output_type": "stream",
     "text": [
      "Invalid Username and Password\n"
     ]
    }
   ],
   "source": [
    "username = input('username: ')\n",
    "password = input('password: ')\n",
    "if username == 'admin' and password == 'admin@123':\n",
    "    print('login Successful')\n",
    "elif username != 'admin' and password == 'admin@123':\n",
    "    print('Invalid Username')\n",
    "elif username == 'admin' and password != 'admin@123':\n",
    "    print('Invalid Password')\n",
    "elif username != 'admin' and password != 'admin@123':\n",
    "    print('Invalid Username and Password')\n"
   ]
  },
  {
   "cell_type": "markdown",
   "id": "5c799583-5206-449c-b370-4007ec0382f2",
   "metadata": {},
   "source": [
    "Q8.\n",
    "\n",
    "student_details = {\n",
    "    \"Ali\": {\"age\": 20, \"grade\": \"A\", \"city\": \"Karachi\"},\n",
    "    \"Sara\": {\"age\": 21, \"grade\": \"B\", \"city\": \"Lahore\"},\n",
    "    \"Omar\": {\"age\": 19, \"grade\": \"A\", \"city\": \"Islamabad\"},\n",
    "    \"Hina\": {\"age\": 22, \"grade\": \"C\", \"city\": \"Faisalabad\"}\n",
    "}\n",
    "\n",
    "- Add a new student using method:\n",
    "  \"Zara\": {\"age\": 20, \"grade\": \"B\", \"city\": \"Multan\"}\n",
    "\n",
    "- Remove a student \"Omer\" using method\n",
    "\n",
    "Expected Output:\n",
    "\n",
    "{'Ali': {'age': 20, 'grade': 'A', 'city': 'Karachi'}, 'Sara': {'age': 21, 'grade': 'B', 'city': 'Lahore'}, 'Hina': {'age': 22, 'grade': 'C', 'city': 'Faisalabad'}, 'Zara': {'age': 20, 'grade': 'B', 'city': 'Multan'}}\n",
    "  "
   ]
  },
  {
   "cell_type": "code",
   "execution_count": 14,
   "id": "6187dc5e-27f8-40d3-a506-71b4ac18c0dc",
   "metadata": {},
   "outputs": [
    {
     "data": {
      "text/plain": [
       "{'Ali': {'age': 20, 'grade': 'A', 'city': 'Karachi'},\n",
       " 'Sara': {'age': 21, 'grade': 'B', 'city': 'Lahore'},\n",
       " 'Hina': {'age': 22, 'grade': 'C', 'city': 'Faisalabad'},\n",
       " 'Zara': {'age': 20, 'grade': 'B', 'city': 'Multan'}}"
      ]
     },
     "execution_count": 14,
     "metadata": {},
     "output_type": "execute_result"
    }
   ],
   "source": [
    "student_details = { \"Ali\": {\"age\": 20, \"grade\": \"A\", \"city\": \"Karachi\"},\n",
    "                   \"Sara\": {\"age\": 21, \"grade\": \"B\", \"city\": \"Lahore\"},\n",
    "                   \"Omar\": {\"age\": 19, \"grade\": \"A\", \"city\": \"Islamabad\"},\n",
    "                   \"Hina\": {\"age\": 22, \"grade\": \"C\", \"city\": \"Faisalabad\"} }\n",
    "student_details.pop('Omar')\n",
    "student_details.update({\"Zara\": {\"age\": 20, \"grade\": \"B\", \"city\": \"Multan\"}})\n",
    "student_details"
   ]
  },
  {
   "cell_type": "markdown",
   "id": "f5c1e4f9-1b24-4c6e-b94d-10e4511df8d8",
   "metadata": {},
   "source": [
    "Q9. Write program to check a person’s eligibility for a loan based on age, credit score, and income. This time, the eligibility criteria will be:\n",
    "\n",
    "The person must be 18 years or older. The person must have a credit score of 650 or higher. The person must have an annual income of at least 30000 dollars If the person has a credit score of 700 or higher, they may still be eligible with an income of 25000 dollars or more.\n",
    "\n",
    "Expected Output:\n",
    "\n",
    "Enter your age:  22\n",
    "\n",
    "Enter your credit score:  888\n",
    "\n",
    "Enter your annual income: $ 800000\n",
    "\n",
    "You are eligible for the loan!\n",
    "\n",
    "---\n",
    "\n",
    "Enter your age:  15\n",
    "\n",
    "Enter your credit score:  800\n",
    "\n",
    "Enter your annual income: $ 900000\n",
    "\n",
    "You are not eligible for the loan due to age.\n",
    "\n",
    "---\n",
    "\n",
    "Enter your age:  35\n",
    "\n",
    "Enter your credit score:  99\n",
    "\n",
    "Enter your annual income: $ 900000\n",
    "\n",
    "You are not eligible for the loan due to low credit score."
   ]
  },
  {
   "cell_type": "code",
   "execution_count": 10,
   "id": "7a3de3e1-7462-40b8-b4f4-2b6c59785599",
   "metadata": {},
   "outputs": [
    {
     "name": "stdin",
     "output_type": "stream",
     "text": [
      "Enter your age:  22\n"
     ]
    },
    {
     "name": "stdout",
     "output_type": "stream",
     "text": [
      "22\n"
     ]
    },
    {
     "name": "stdin",
     "output_type": "stream",
     "text": [
      "Enter your credit score:  888\n"
     ]
    },
    {
     "name": "stdout",
     "output_type": "stream",
     "text": [
      "888\n"
     ]
    },
    {
     "name": "stdin",
     "output_type": "stream",
     "text": [
      "Enter your annual income in dollars:  $800000\n"
     ]
    },
    {
     "name": "stdout",
     "output_type": "stream",
     "text": [
      "$800000\n",
      "You are Eligible for loan \n"
     ]
    }
   ],
   "source": [
    "age = int(input(\"Enter your age: \"))\n",
    "print(age)\n",
    "credit_score = int(input(\"Enter your credit score: \"))\n",
    "print(credit_score)\n",
    "income = (input(\"Enter your annual income in dollars: \"))\n",
    "print(income)\n",
    "if age >= 18:\n",
    "    if (credit_score >= 650 and income >= \"$30000\") or (credit_score >= 700 and income >= \"$25000\"):\n",
    "        print(\"You are Eligible for loan \")\n",
    "    else:\n",
    "        print(\"You are not eligible for loan due to low credit score\")\n",
    "else:\n",
    "    print(\"You are not eligible for loan due to age\")"
   ]
  },
  {
   "cell_type": "code",
   "execution_count": 11,
   "id": "7d694086-801c-47d8-a6f0-638a66a5b5e3",
   "metadata": {},
   "outputs": [
    {
     "name": "stdin",
     "output_type": "stream",
     "text": [
      "Enter your age:  15\n"
     ]
    },
    {
     "name": "stdout",
     "output_type": "stream",
     "text": [
      "15\n"
     ]
    },
    {
     "name": "stdin",
     "output_type": "stream",
     "text": [
      "Enter your credit score:  800\n"
     ]
    },
    {
     "name": "stdout",
     "output_type": "stream",
     "text": [
      "800\n"
     ]
    },
    {
     "name": "stdin",
     "output_type": "stream",
     "text": [
      "Enter your annual income in dollars:  $900000\n"
     ]
    },
    {
     "name": "stdout",
     "output_type": "stream",
     "text": [
      "$900000\n",
      "You are not eligible for loan due to age\n"
     ]
    }
   ],
   "source": [
    "age = int(input(\"Enter your age: \"))\n",
    "print(age)\n",
    "credit_score = int(input(\"Enter your credit score: \"))\n",
    "print(credit_score)\n",
    "income = (input(\"Enter your annual income in dollars: \"))\n",
    "print(income)\n",
    "if age >= 18:\n",
    "    if (credit_score >= 650 and income >= \"$30000\") or (credit_score >= 700 and income >= \"$25000\"):\n",
    "        print(\"You are Eligible for loan \")\n",
    "    else:\n",
    "        print(\"You are not eligible for loan due to low credit score\")\n",
    "else:\n",
    "    print(\"You are not eligible for loan due to age\")"
   ]
  },
  {
   "cell_type": "code",
   "execution_count": 12,
   "id": "5a1aa39c-9644-495a-97d2-ac9674cc1854",
   "metadata": {},
   "outputs": [
    {
     "name": "stdin",
     "output_type": "stream",
     "text": [
      "Enter your age:  35\n"
     ]
    },
    {
     "name": "stdout",
     "output_type": "stream",
     "text": [
      "35\n"
     ]
    },
    {
     "name": "stdin",
     "output_type": "stream",
     "text": [
      "Enter your credit score:  99\n"
     ]
    },
    {
     "name": "stdout",
     "output_type": "stream",
     "text": [
      "99\n"
     ]
    },
    {
     "name": "stdin",
     "output_type": "stream",
     "text": [
      "Enter your annual income in dollars:  $900000\n"
     ]
    },
    {
     "name": "stdout",
     "output_type": "stream",
     "text": [
      "$900000\n",
      "You are not eligible for loan due to low credit score\n"
     ]
    }
   ],
   "source": [
    "age = int(input(\"Enter your age: \"))\n",
    "print(age)\n",
    "credit_score = int(input(\"Enter your credit score: \"))\n",
    "print(credit_score)\n",
    "income = (input(\"Enter your annual income in dollars: \"))\n",
    "print(income)\n",
    "if age >= 18:\n",
    "    if (credit_score >= 650 and income >= \"$30000\") or (credit_score >= 700 and income >= \"$25000\"):\n",
    "        print(\"You are Eligible for loan \")\n",
    "    else:\n",
    "        print(\"You are not eligible for loan due to low credit score\")\n",
    "else:\n",
    "    print(\"You are not eligible for loan due to age\")"
   ]
  },
  {
   "cell_type": "markdown",
   "id": "2b4c034e-a69a-4124-a1ea-497bce36c7a9",
   "metadata": {},
   "source": [
    "Q10. Write a Python program to check whether the entered letter is a vowel, a consonant, or invalid input.\n",
    "\n",
    "The program should take a single character as input. If the character is a vowel (a, e, i, o, u in both upper and lower case), it will print \"Vowel\". If it is an alphabet but not a vowel, it will print \"Consonant\". Otherwise, it will print \"Please enter valid alphabet\".\n",
    "\n",
    "Expected Output:\n",
    "\n",
    "Enter a single letter:  a\n",
    "\n",
    "a is a Vowel\n",
    "\n",
    "---\n",
    "\n",
    "Enter a single letter:  E\n",
    "\n",
    "E is a Vowel\n",
    "\n",
    "---\n",
    "\n",
    "Enter a single letter:  z\n",
    "\n",
    "z is a Consonant\n",
    "\n",
    "---\n",
    "\n",
    "Enter a single letter:  7\n",
    "\n",
    "Please enter valid alphabet\n"
   ]
  },
  {
   "cell_type": "code",
   "execution_count": 25,
   "id": "17752b4c-7dcf-47c3-809b-d7c34e3ae440",
   "metadata": {},
   "outputs": [
    {
     "name": "stdin",
     "output_type": "stream",
     "text": [
      "Enter a single character:  a\n"
     ]
    },
    {
     "name": "stdout",
     "output_type": "stream",
     "text": [
      "a\n",
      "Vowel\n"
     ]
    }
   ],
   "source": [
    "ch = input(\"Enter a single character: \")\n",
    "print(ch)\n",
    "if ch.isalpha(): \n",
    "    if ch.lower() in ['a', 'e', 'i', 'o', 'u']:\n",
    "        print(\"Vowel\")\n",
    "    else:\n",
    "        print(\"Consonant\")\n",
    "else:\n",
    "    print(\"Please enter valid alphabet\")"
   ]
  },
  {
   "cell_type": "code",
   "execution_count": 26,
   "id": "538ed474-7d02-4bfd-a570-cda29483e77f",
   "metadata": {},
   "outputs": [
    {
     "name": "stdin",
     "output_type": "stream",
     "text": [
      "Enter a single character:  E\n"
     ]
    },
    {
     "name": "stdout",
     "output_type": "stream",
     "text": [
      "E\n",
      "Vowel\n"
     ]
    }
   ],
   "source": [
    "ch = input(\"Enter a single character: \")\n",
    "print(ch)\n",
    "if ch.isalpha(): \n",
    "    if ch.lower() in ['a', 'e', 'i', 'o', 'u']:\n",
    "        print(\"Vowel\")\n",
    "    else:\n",
    "        print(\"Consonant\")\n",
    "else:\n",
    "    print(\"Please enter valid alphabet\")"
   ]
  },
  {
   "cell_type": "code",
   "execution_count": 29,
   "id": "7332c613-0c99-4fed-afd9-67f32297f750",
   "metadata": {},
   "outputs": [
    {
     "name": "stdin",
     "output_type": "stream",
     "text": [
      "Enter a single character:  z\n"
     ]
    },
    {
     "name": "stdout",
     "output_type": "stream",
     "text": [
      "z\n",
      "Consonant\n"
     ]
    }
   ],
   "source": [
    "ch = input(\"Enter a single character: \")\n",
    "print(ch)\n",
    "if ch.isalpha(): \n",
    "    if ch.lower() in ['a', 'e', 'i', 'o', 'u']:\n",
    "        print(\"Vowel\")\n",
    "    else:\n",
    "        print(\"Consonant\")\n",
    "else:\n",
    "    print(\"Please enter valid alphabet\")"
   ]
  },
  {
   "cell_type": "code",
   "execution_count": 30,
   "id": "367342d8-985b-4937-919f-021ab14ceed2",
   "metadata": {},
   "outputs": [
    {
     "name": "stdin",
     "output_type": "stream",
     "text": [
      "Enter a single character:  7\n"
     ]
    },
    {
     "name": "stdout",
     "output_type": "stream",
     "text": [
      "7\n",
      "Please enter valid alphabet\n"
     ]
    }
   ],
   "source": [
    "ch = input(\"Enter a single character: \")\n",
    "print(ch)\n",
    "if ch.isalpha(): \n",
    "    if ch.lower() in ['a', 'e', 'i', 'o', 'u']:\n",
    "        print(\"Vowel\")\n",
    "    else:\n",
    "        print(\"Consonant\")\n",
    "else:\n",
    "    print(\"Please enter valid alphabet\")"
   ]
  },
  {
   "cell_type": "code",
   "execution_count": null,
   "id": "df088735-a141-42ba-be89-c29eb6c0d34d",
   "metadata": {},
   "outputs": [],
   "source": []
  }
 ],
 "metadata": {
  "kernelspec": {
   "display_name": "Python 3 (ipykernel)",
   "language": "python",
   "name": "python3"
  },
  "language_info": {
   "codemirror_mode": {
    "name": "ipython",
    "version": 3
   },
   "file_extension": ".py",
   "mimetype": "text/x-python",
   "name": "python",
   "nbconvert_exporter": "python",
   "pygments_lexer": "ipython3",
   "version": "3.13.5"
  }
 },
 "nbformat": 4,
 "nbformat_minor": 5
}
